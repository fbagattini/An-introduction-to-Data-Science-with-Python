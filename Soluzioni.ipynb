{
 "cells": [
  {
   "cell_type": "markdown",
   "metadata": {},
   "source": [
    "3.4\n",
    "---"
   ]
  },
  {
   "cell_type": "code",
   "execution_count": 1,
   "metadata": {},
   "outputs": [
    {
     "name": "stdout",
     "output_type": "stream",
     "text": [
      "Il numero in posizione 0 è 10\n",
      "Il numero in posizione 1 è 2\n",
      "Il numero in posizione 2 è 4\n",
      "Il numero in posizione 3 è 8\n",
      "Il numero in posizione 4 è 1.7\n"
     ]
    },
    {
     "data": {
      "text/plain": [
       "[100, 4, 16, 64, 2.8899999999999997]"
      ]
     },
     "execution_count": 1,
     "metadata": {},
     "output_type": "execute_result"
    }
   ],
   "source": [
    "numbers = [10, 2, 4, 8, 1.7]\n",
    "squared_numbers = []\n",
    "\n",
    "for i, x in enumerate(numbers):\n",
    "    print('Il numero in posizione {} è {}'.format(i, x))\n",
    "    squared_numbers += [x**2]\n",
    "    \n",
    "squared_numbers"
   ]
  },
  {
   "cell_type": "markdown",
   "metadata": {},
   "source": [
    "3.5\n",
    "---"
   ]
  },
  {
   "cell_type": "code",
   "execution_count": 2,
   "metadata": {},
   "outputs": [
    {
     "data": {
      "text/plain": [
       "[[0, 'alessandro'],\n",
       " [1, 'elisa'],\n",
       " [2, 'francesco'],\n",
       " [3, 'giovanni'],\n",
       " [4, 'maria teresa']]"
      ]
     },
     "execution_count": 2,
     "metadata": {},
     "output_type": "execute_result"
    }
   ],
   "source": [
    "names = ['francesco', 'elisa', 'alessandro', 'giovanni', 'maria teresa']\n",
    "indexed_sorted_names = [[i, n] for i, n in enumerate(sorted(names))]\n",
    "\n",
    "indexed_sorted_names"
   ]
  },
  {
   "cell_type": "markdown",
   "metadata": {},
   "source": [
    "3.6\n",
    "---"
   ]
  },
  {
   "cell_type": "code",
   "execution_count": 3,
   "metadata": {},
   "outputs": [
    {
     "data": {
      "text/plain": [
       "[100, 4, 16, 64, 2.8899999999999997]"
      ]
     },
     "execution_count": 3,
     "metadata": {},
     "output_type": "execute_result"
    }
   ],
   "source": [
    "numbers = [10, 2, 4, 8, 1.7]\n",
    "squared_numbers = [x**2 for x in numbers]\n",
    "\n",
    "squared_numbers"
   ]
  },
  {
   "cell_type": "markdown",
   "metadata": {},
   "source": [
    "4.1, 4.2\n",
    "---"
   ]
  },
  {
   "cell_type": "code",
   "execution_count": 4,
   "metadata": {},
   "outputs": [
    {
     "name": "stdout",
     "output_type": "stream",
     "text": [
      "Il quadrato di 3 è 9, che è multiplo di 3 ma non di 2\n",
      "Il quadrato di 6 è 36, che è multiplo sia di 2 che di 3\n",
      "Il quadrato di 5 è 25, che non è multiplo né di 2 né di 3\n",
      "Il quadrato di 8 è 64, che è multiplo di 2 ma non di 3\n",
      "Il quadrato di 12 è 144, che è multiplo sia di 2 che di 3\n",
      "\n",
      "**************************************************************\n",
      "\n",
      "[36, 64, 144]\n",
      "[9, 36, 144]\n",
      "[64]\n"
     ]
    }
   ],
   "source": [
    "lst = [3,6,5,8,12]\n",
    "\n",
    "for element in lst:\n",
    "    if element**2 % 2 == 0 and element**2 % 3 == 0:\n",
    "        print('Il quadrato di {} è {}, che è multiplo sia di 2 che di 3'.format(element, element**2))\n",
    "    elif element**2 % 2 == 0:\n",
    "        print('Il quadrato di {} è {}, che è multiplo di 2 ma non di 3'.format(element, element**2))\n",
    "    elif element**2 % 3 == 0:\n",
    "        print('Il quadrato di {} è {}, che è multiplo di 3 ma non di 2'.format(element, element**2))\n",
    "    else:\n",
    "        print('Il quadrato di {} è {}, che non è multiplo né di 2 né di 3'.format(element, element**2))\n",
    "        \n",
    "print('\\n**************************************************************\\n')\n",
    "\n",
    "multiples_of_2 = [element**2 for element in lst if element**2 % 2 == 0]\n",
    "multiples_of_3 = [element**2 for element in lst if element**2 % 3 == 0]\n",
    "multiples_of_2_and_not_of_3 = [element**2 for element in lst if element**2 % 2 == 0 and not element**2 % 3 == 0]\n",
    "\n",
    "print(multiples_of_2)\n",
    "print(multiples_of_3)\n",
    "print(multiples_of_2_and_not_of_3)"
   ]
  },
  {
   "cell_type": "markdown",
   "metadata": {},
   "source": [
    "5.1\n",
    "---"
   ]
  },
  {
   "cell_type": "code",
   "execution_count": 5,
   "metadata": {},
   "outputs": [
    {
     "name": "stdout",
     "output_type": "stream",
     "text": [
      "Mount Everest è alta 8858\n",
      "K2 è alta 8611\n",
      "Kangchenjunga è alta 8586\n",
      "La montagna numero 1 è K2 ed è alta 8611\n",
      "La montagna numero 2 è Kangchenjunga ed è alta 8586\n",
      "La montagna numero 3 è Mount Everest ed è alta 8858\n"
     ]
    }
   ],
   "source": [
    "heights = {}\n",
    "heights['Mount Everest'] = 8858\n",
    "heights['K2'] = 8611\n",
    "heights['Kangchenjunga'] = 8586\n",
    "\n",
    "for mountain, height in heights.items():\n",
    "    print('{} è alta {}'.format(mountain, height))\n",
    "    \n",
    "for i, mountain in enumerate(sorted(heights.keys())):\n",
    "    print('La montagna numero {} è {} ed è alta {}'.format(i+1, mountain, heights[mountain]))"
   ]
  },
  {
   "cell_type": "markdown",
   "metadata": {},
   "source": [
    "5.2\n",
    "---"
   ]
  },
  {
   "cell_type": "code",
   "execution_count": 6,
   "metadata": {},
   "outputs": [
    {
     "name": "stdout",
     "output_type": "stream",
     "text": [
      "La montagna numero 0 è Mount Everest, è alta 8858 e si trova in Nepal\n",
      "La montagna numero 1 è K2, è alta 8611 e si trova in Pakistan\n",
      "La montagna numero 2 è Kangchenjunga, è alta 8586 e si trova in Nepal\n"
     ]
    }
   ],
   "source": [
    "mountains = []\n",
    "\n",
    "mountains += [{'name':'Mount Everest', 'height':8858, 'country':'Nepal'}]\n",
    "mountains += [{'name':'K2', 'height':8611, 'country':'Pakistan'}]\n",
    "mountains += [{'name':'Kangchenjunga', 'height':8586, 'country':'Nepal'}]\n",
    "\n",
    "for i, m in enumerate(mountains):\n",
    "    print('La montagna numero {} è {}, è alta {} e si trova in {}'.format(i,\n",
    "                                                                          m['name'],\n",
    "                                                                          m['height'],\n",
    "                                                                          m['country']))"
   ]
  },
  {
   "cell_type": "code",
   "execution_count": 7,
   "metadata": {},
   "outputs": [
    {
     "name": "stdout",
     "output_type": "stream",
     "text": [
      "{'Mount Everest': 8858, 'K2': 8611, 'Kangchenjunga': 8586}\n"
     ]
    }
   ],
   "source": [
    "mountain_names = [m['name'] for m in mountains]\n",
    "mountain_heights = [m['height'] for m in mountains]\n",
    "\n",
    "heights = {}\n",
    "\n",
    "for i,n in enumerate(mountain_names):\n",
    "    heights[n] = mountain_heights[i]\n",
    "    \n",
    "print(heights)"
   ]
  },
  {
   "cell_type": "markdown",
   "metadata": {},
   "source": [
    "5.3\n",
    "---"
   ]
  },
  {
   "cell_type": "code",
   "execution_count": 8,
   "metadata": {},
   "outputs": [],
   "source": [
    "def show_estate_info(e):\n",
    "    print('Paese: {}'.format(e['country']))\n",
    "    print('Estensione (mq): {}'.format(e['extension']))\n",
    "    print('Terreno annesso?: {}'.format('Sì' if e['has_land'] else 'No'))\n",
    "    print('Prezzo: {}K Euro'.format(e['price']))"
   ]
  },
  {
   "cell_type": "code",
   "execution_count": 9,
   "metadata": {},
   "outputs": [
    {
     "name": "stdout",
     "output_type": "stream",
     "text": [
      "\n",
      "Immobile #0\n",
      "Paese: Italia\n",
      "Estensione (mq): 2000\n",
      "Terreno annesso?: No\n",
      "Prezzo: 10K Euro\n",
      "\n",
      "Immobile #1\n",
      "Paese: Spagna\n",
      "Estensione (mq): 12000\n",
      "Terreno annesso?: No\n",
      "Prezzo: 125K Euro\n",
      "\n",
      "Immobile #2\n",
      "Paese: Argentina\n",
      "Estensione (mq): 50000\n",
      "Terreno annesso?: Sì\n",
      "Prezzo: 300K Euro\n"
     ]
    }
   ],
   "source": [
    "estates = []\n",
    "\n",
    "e1 = {'country':'Italia',    'extension':2000,  'has_land':False, 'price':10}\n",
    "e2 = {'country':'Spagna',    'extension':12000, 'has_land':False, 'price':125}\n",
    "e3 = {'country':'Argentina', 'extension':50000, 'has_land':True,  'price':300}\n",
    "\n",
    "estates += [e1, e2, e3]\n",
    "\n",
    "for i, e in enumerate(estates):\n",
    "    print(f'\\nImmobile #{i}')#sintassi alternativa a format, disponibile da Python 3.6\n",
    "    show_estate_info(e)"
   ]
  },
  {
   "cell_type": "markdown",
   "metadata": {},
   "source": [
    "6.2\n",
    "---"
   ]
  },
  {
   "cell_type": "code",
   "execution_count": 1,
   "metadata": {},
   "outputs": [
    {
     "name": "stdout",
     "output_type": "stream",
     "text": [
      "1.000504541252011\n",
      "1.0005045412519882\n",
      "299 ms ± 19.9 ms per loop (mean ± std. dev. of 7 runs, 1 loop each)\n",
      "2.5 ms ± 97 µs per loop (mean ± std. dev. of 7 runs, 100 loops each)\n"
     ]
    }
   ],
   "source": [
    "import numpy as np\n",
    "import numpy.random as rdm\n",
    "from math import sqrt\n",
    "\n",
    "def py_std(x):\n",
    "    mean_val = sum(x) / len(x)\n",
    "    return sqrt(sum((val-mean_val)**2 for val in x) / len(x))\n",
    "\n",
    "large_array = rdm.normal(size=(1000000,))\n",
    "\n",
    "print(py_std(large_array))\n",
    "print(np.std(large_array))\n",
    "\n",
    "#confronto tempi di esecuzione\n",
    "%timeit py_std(large_array)\n",
    "%timeit np.std(large_array)"
   ]
  },
  {
   "cell_type": "markdown",
   "metadata": {},
   "source": [
    "6.3\n",
    "---"
   ]
  },
  {
   "cell_type": "code",
   "execution_count": 2,
   "metadata": {},
   "outputs": [
    {
     "name": "stdout",
     "output_type": "stream",
     "text": [
      "[[[ 11 252 220  65  34]\n",
      "  [  0  92 167 200 119]\n",
      "  [124  14 134 246 229]\n",
      "  [237 216  71 177 201]\n",
      "  [ 13 245 111 145 223]]\n",
      "\n",
      " [[169  16 191 139 123]\n",
      "  [166 153  21 172  56]\n",
      "  [ 19  73 233 130 252]\n",
      "  [ 98 164  31 186  16]\n",
      "  [ 98  42  55  92 140]]\n",
      "\n",
      " [[ 63  24 124 186 243]\n",
      "  [138  20 204 144 223]\n",
      "  [ 74 121 155 240 103]\n",
      "  [ 23 213   6 247  79]\n",
      "  [239 185  50  44 246]]\n",
      "\n",
      " ...\n",
      "\n",
      " [[233 158 169 253  45]\n",
      "  [225  78 229  71 195]\n",
      "  [158 128 141 107 144]\n",
      "  [ 95 208 204  67 118]\n",
      "  [ 54 118  33 133 168]]\n",
      "\n",
      " [[  1 197 134  52 154]\n",
      "  [ 46  22 108 204 246]\n",
      "  [ 81 170 114  38  40]\n",
      "  [  4 134 214 196 239]\n",
      "  [106 208 196 164   9]]\n",
      "\n",
      " [[193  47 137 244  18]\n",
      "  [100 127   0 138 216]\n",
      "  [  2  12  17 232  97]\n",
      "  [ 49  10 235  70 104]\n",
      "  [242  96 246 141 159]]]\n"
     ]
    }
   ],
   "source": [
    "import numpy as np\n",
    "import numpy.random as rdm\n",
    "\n",
    "n_frames = 50\n",
    "n_pixel_y = 5\n",
    "n_pixel_x = 5\n",
    "movie = rdm.randint(0, 256, (n_frames, n_pixel_y, n_pixel_x))\n",
    "print(movie)"
   ]
  },
  {
   "cell_type": "code",
   "execution_count": 3,
   "metadata": {},
   "outputs": [
    {
     "name": "stdout",
     "output_type": "stream",
     "text": [
      "(50, 5, 5)\n"
     ]
    }
   ],
   "source": [
    "print(movie.shape)"
   ]
  },
  {
   "cell_type": "code",
   "execution_count": 4,
   "metadata": {},
   "outputs": [
    {
     "name": "stdout",
     "output_type": "stream",
     "text": [
      "[[105.16 130.16 119.34 124.02 130.1 ]\n",
      " [133.68 106.48 129.14 137.9  142.58]\n",
      " [113.28 132.   121.88 144.36 133.22]\n",
      " [121.46 137.04 127.08 131.62 123.52]\n",
      " [144.78 123.32 127.24 121.22 125.36]]\n",
      "(5, 5)\n"
     ]
    }
   ],
   "source": [
    "pixel_mean_intensity = np.mean(movie, axis=0)\n",
    "print(pixel_mean_intensity)\n",
    "print(pixel_mean_intensity.shape)"
   ]
  },
  {
   "cell_type": "markdown",
   "metadata": {},
   "source": [
    "6.4\n",
    "---"
   ]
  },
  {
   "cell_type": "code",
   "execution_count": 5,
   "metadata": {},
   "outputs": [
    {
     "name": "stdout",
     "output_type": "stream",
     "text": [
      "5.0001\n",
      "0.0001\n",
      "3.004073163065538 3.004073163065538\n"
     ]
    }
   ],
   "source": [
    "import numpy as np\n",
    "import numpy.random as rdm\n",
    "\n",
    "values = rdm.normal(5, 3, 1000000)\n",
    "\n",
    "#sottraggo 5 e guardo se ha funzionato\n",
    "print(round(np.mean(values), 4))\n",
    "values -= 5\n",
    "print(round(np.mean(values), 4))\n",
    "\n",
    "#implemento deviazione std e confronto con np.std\n",
    "residuals = values - np.mean(values)\n",
    "squared_residuals = residuals**2\n",
    "variance = np.sum(squared_residuals) / values.size\n",
    "print(np.std(values), np.sqrt(variance))"
   ]
  },
  {
   "cell_type": "markdown",
   "metadata": {},
   "source": [
    "6.5\n",
    "---"
   ]
  },
  {
   "cell_type": "code",
   "execution_count": 6,
   "metadata": {},
   "outputs": [
    {
     "name": "stdout",
     "output_type": "stream",
     "text": [
      "[[ 1  2  3]\n",
      " [ 0  2 -1]\n",
      " [-1  2  3]\n",
      " [ 3  1  3]]\n",
      "[0 1 0 1]\n",
      "[1 1 2]\n"
     ]
    }
   ],
   "source": [
    "import numpy as np\n",
    "\n",
    "X_train = np.array([[1,2,3],\n",
    "                    [0,2,-1],\n",
    "                    [-1,2,3],\n",
    "                    [3,1,3]])\n",
    "\n",
    "x_new = np.array([1,1,2])\n",
    "\n",
    "y_train = np.array([0,1,0,1])\n",
    "\n",
    "print(X_train)\n",
    "print(y_train)\n",
    "print(x_new)"
   ]
  },
  {
   "cell_type": "code",
   "execution_count": 7,
   "metadata": {},
   "outputs": [
    {
     "name": "stdout",
     "output_type": "stream",
     "text": [
      "[1.4 3.3 2.4 2.2]\n"
     ]
    }
   ],
   "source": [
    "distances = [np.sqrt(np.sum((x - x_new) ** 2)) for x in X_train]#riga per riga\n",
    "distances = np.round(distances, 1)\n",
    "print(distances)"
   ]
  },
  {
   "cell_type": "markdown",
   "metadata": {},
   "source": [
    "Posso calcolare le distanze in modo ancora più compatto. Definita la *Norma* di un vettore $d$-dimensionale,\n",
    "\n",
    "$$\\|x\\|_2 := \\sqrt{\\sum_{i=1}^d x_i^2},$$\n",
    "\n",
    "si può dire che la distanza euclidea tra due vettori $x$ e $x'$ è la norma del *vettore differenza* $x - x'$:\n",
    "\n",
    "$$D(x, x') = \\sqrt{\\sum_{i=1}^{d}(x_i-x'_i)^2} = \\|x - x'\\|_2.$$\n",
    "\n",
    "Proviamo intanto ad operare vettorialmente."
   ]
  },
  {
   "cell_type": "code",
   "execution_count": 8,
   "metadata": {},
   "outputs": [
    {
     "data": {
      "text/plain": [
       "array([[ 0,  1,  1],\n",
       "       [-1,  1, -3],\n",
       "       [-2,  1,  1],\n",
       "       [ 2,  0,  1]])"
      ]
     },
     "execution_count": 8,
     "metadata": {},
     "output_type": "execute_result"
    }
   ],
   "source": [
    "X_train - x_new#vettori differenza"
   ]
  },
  {
   "cell_type": "code",
   "execution_count": 9,
   "metadata": {},
   "outputs": [
    {
     "data": {
      "text/plain": [
       "array([[0, 1, 1],\n",
       "       [1, 1, 9],\n",
       "       [4, 1, 1],\n",
       "       [4, 0, 1]])"
      ]
     },
     "execution_count": 9,
     "metadata": {},
     "output_type": "execute_result"
    }
   ],
   "source": [
    "(X_train - x_new) ** 2#differenze al quadrato"
   ]
  },
  {
   "cell_type": "code",
   "execution_count": 10,
   "metadata": {},
   "outputs": [
    {
     "data": {
      "text/plain": [
       "array([ 2, 11,  6,  5])"
      ]
     },
     "execution_count": 10,
     "metadata": {},
     "output_type": "execute_result"
    }
   ],
   "source": [
    "np.sum((X_train - x_new) ** 2, axis=1)#somma (lungo le colonne) degli scarti al quadrato"
   ]
  },
  {
   "cell_type": "code",
   "execution_count": 11,
   "metadata": {},
   "outputs": [
    {
     "name": "stdout",
     "output_type": "stream",
     "text": [
      "[1.4 3.3 2.4 2.2]\n"
     ]
    }
   ],
   "source": [
    "distances = np.sqrt(np.sum((X_train - x_new) ** 2, axis=1))#tutto vettoriale\n",
    "distances = np.round(distances, 1)\n",
    "print(distances)"
   ]
  },
  {
   "cell_type": "markdown",
   "metadata": {},
   "source": [
    "Volendo, tutto in una riga:"
   ]
  },
  {
   "cell_type": "code",
   "execution_count": 12,
   "metadata": {},
   "outputs": [
    {
     "name": "stdout",
     "output_type": "stream",
     "text": [
      "[1.4 3.3 2.4 2.2]\n"
     ]
    }
   ],
   "source": [
    "print(np.round(np.sqrt(np.sum((X_train - x_new) ** 2, axis=1)), 1))"
   ]
  },
  {
   "cell_type": "markdown",
   "metadata": {},
   "source": [
    "Adesso utilizziamo la funzione *norm* di numpy."
   ]
  },
  {
   "cell_type": "code",
   "execution_count": 13,
   "metadata": {},
   "outputs": [
    {
     "name": "stdout",
     "output_type": "stream",
     "text": [
      "[0.50936559 0.99728408 0.11055377 0.34465345 0.23877203]\n",
      "1.2008534738099808\n",
      "1.2008534738099808\n"
     ]
    }
   ],
   "source": [
    "from numpy.linalg import norm\n",
    "\n",
    "vec = np.random.random((5,))\n",
    "print(vec)\n",
    "print(np.sqrt(np.sum(vec**2)))\n",
    "print(norm(vec))"
   ]
  },
  {
   "cell_type": "code",
   "execution_count": 14,
   "metadata": {},
   "outputs": [
    {
     "name": "stdout",
     "output_type": "stream",
     "text": [
      "[1.4 3.3 2.4 2.2]\n"
     ]
    }
   ],
   "source": [
    "print(np.round(norm(X_train - x_new, axis=1), 1))#utilizzando la norma vettorialmente"
   ]
  },
  {
   "cell_type": "markdown",
   "metadata": {},
   "source": [
    "**Nota**: abbiamo smesso di scrivere cicli for!"
   ]
  },
  {
   "cell_type": "markdown",
   "metadata": {},
   "source": [
    "6.6\n",
    "---"
   ]
  },
  {
   "cell_type": "code",
   "execution_count": 15,
   "metadata": {},
   "outputs": [
    {
     "name": "stdout",
     "output_type": "stream",
     "text": [
      "[[ 1.6 66. ]\n",
      " [ 1.6 63. ]\n",
      " [ 1.9 67. ]]\n"
     ]
    }
   ],
   "source": [
    "people = np.array([[1.60, 66],\n",
    "                   [1.60, 63],\n",
    "                   [1.90, 67]])\n",
    "\n",
    "print(people)"
   ]
  },
  {
   "cell_type": "code",
   "execution_count": 16,
   "metadata": {},
   "outputs": [
    {
     "name": "stdout",
     "output_type": "stream",
     "text": [
      "[ 1.6 66. ]\n",
      "[ 1.6 63. ]\n",
      "[ 1.9 67. ]\n"
     ]
    }
   ],
   "source": [
    "A, B, C = people\n",
    "print(A)\n",
    "print(B)\n",
    "print(C)"
   ]
  },
  {
   "cell_type": "code",
   "execution_count": 17,
   "metadata": {},
   "outputs": [
    {
     "name": "stdout",
     "output_type": "stream",
     "text": [
      "3.0\n",
      "1.0440306508910548\n"
     ]
    }
   ],
   "source": [
    "print(norm(A-B))\n",
    "print(norm(A-C))"
   ]
  },
  {
   "cell_type": "code",
   "execution_count": 18,
   "metadata": {},
   "outputs": [
    {
     "name": "stdout",
     "output_type": "stream",
     "text": [
      "[0. 0. 1.]\n",
      "[0.75 0.   1.  ]\n"
     ]
    }
   ],
   "source": [
    "def scale_01(column):\n",
    "    return (column - np.min(column)) / (np.max(column) - np.min(column))\n",
    "\n",
    "scaled_height = scale_01(people[:, 0])\n",
    "scaled_weight = scale_01(people[:, 1])\n",
    "\n",
    "print(scaled_height)\n",
    "print(scaled_weight)"
   ]
  },
  {
   "cell_type": "code",
   "execution_count": 19,
   "metadata": {},
   "outputs": [
    {
     "name": "stdout",
     "output_type": "stream",
     "text": [
      "[[0.   0.   1.  ]\n",
      " [0.75 0.   1.  ]]\n"
     ]
    }
   ],
   "source": [
    "scaled_people = np.vstack([scaled_height, scaled_weight])\n",
    "print(scaled_people)"
   ]
  },
  {
   "cell_type": "code",
   "execution_count": 20,
   "metadata": {},
   "outputs": [
    {
     "name": "stdout",
     "output_type": "stream",
     "text": [
      "[[0.   0.75]\n",
      " [0.   0.  ]\n",
      " [1.   1.  ]]\n"
     ]
    }
   ],
   "source": [
    "scaled_people = scaled_people.T#trasposizione\n",
    "print(scaled_people)"
   ]
  },
  {
   "cell_type": "markdown",
   "metadata": {},
   "source": [
    "Scriviamo tutto in modo più veloce e compatto, utilizzando il calcolo vettoriale."
   ]
  },
  {
   "cell_type": "code",
   "execution_count": 21,
   "metadata": {},
   "outputs": [
    {
     "name": "stdout",
     "output_type": "stream",
     "text": [
      "[[ 1.6 66. ]\n",
      " [ 1.6 63. ]\n",
      " [ 1.9 67. ]]\n"
     ]
    }
   ],
   "source": [
    "print(people)"
   ]
  },
  {
   "cell_type": "code",
   "execution_count": 22,
   "metadata": {},
   "outputs": [
    {
     "name": "stdout",
     "output_type": "stream",
     "text": [
      "[ 1.6 63. ]\n"
     ]
    }
   ],
   "source": [
    "print(np.min(people, axis=0))#minimo per colonna (cioè, 'lungo le righe')"
   ]
  },
  {
   "cell_type": "code",
   "execution_count": 23,
   "metadata": {},
   "outputs": [
    {
     "name": "stdout",
     "output_type": "stream",
     "text": [
      "[[0.  3. ]\n",
      " [0.  0. ]\n",
      " [0.3 4. ]]\n"
     ]
    }
   ],
   "source": [
    "print(people - np.min(people, axis=0))"
   ]
  },
  {
   "cell_type": "code",
   "execution_count": 24,
   "metadata": {},
   "outputs": [
    {
     "name": "stdout",
     "output_type": "stream",
     "text": [
      "[0.3 4. ]\n"
     ]
    }
   ],
   "source": [
    "print(np.max(people, axis=0) - np.min(people, axis=0))"
   ]
  },
  {
   "cell_type": "code",
   "execution_count": 25,
   "metadata": {},
   "outputs": [
    {
     "name": "stdout",
     "output_type": "stream",
     "text": [
      "[[0.   0.75]\n",
      " [0.   0.  ]\n",
      " [1.   1.  ]]\n"
     ]
    }
   ],
   "source": [
    "scaled_people = (people - np.min(people, axis=0)) / (np.max(people, axis=0) - np.min(people, axis=0))\n",
    "print(scaled_people)"
   ]
  },
  {
   "cell_type": "code",
   "execution_count": 26,
   "metadata": {},
   "outputs": [
    {
     "name": "stdout",
     "output_type": "stream",
     "text": [
      "[0.   0.75]\n",
      "[0. 0.]\n",
      "[1. 1.]\n"
     ]
    }
   ],
   "source": [
    "scaled_A, scaled_B, scaled_C = scaled_people\n",
    "print(scaled_A)\n",
    "print(scaled_B)\n",
    "print(scaled_C)"
   ]
  },
  {
   "cell_type": "code",
   "execution_count": 27,
   "metadata": {},
   "outputs": [
    {
     "name": "stdout",
     "output_type": "stream",
     "text": [
      "0.75\n",
      "1.0307764064044151\n"
     ]
    }
   ],
   "source": [
    "print(norm(scaled_A-scaled_B))\n",
    "print(norm(scaled_A-scaled_C))"
   ]
  },
  {
   "cell_type": "markdown",
   "metadata": {},
   "source": [
    "6.7\n",
    "---"
   ]
  },
  {
   "cell_type": "code",
   "execution_count": 28,
   "metadata": {},
   "outputs": [
    {
     "name": "stdout",
     "output_type": "stream",
     "text": [
      "Matrice delle feature:\n",
      " [[0.5488135  0.71518937 0.60276338 0.54488318]\n",
      " [0.4236548  0.64589411 0.43758721 0.891773  ]\n",
      " [0.96366276 0.38344152 0.79172504 0.52889492]\n",
      " [0.56804456 0.92559664 0.07103606 0.0871293 ]\n",
      " [0.0202184  0.83261985 0.77815675 0.87001215]\n",
      " [0.97861834 0.79915856 0.46147936 0.78052918]\n",
      " [0.11827443 0.63992102 0.14335329 0.94466892]]\n",
      "\n",
      "Vettore delle etichette: [1 0 0 1 1 0 1]\n",
      "\n",
      "Nuovo esempio da classificare: [0.73691818 0.21655035 0.13521817 0.32414101]\n",
      "\n",
      "Predizione (k=3): 1\n",
      "Predizione (k=5): 0\n"
     ]
    }
   ],
   "source": [
    "import numpy as np\n",
    "from numpy.linalg import norm\n",
    "\n",
    "np.random.seed(0)#fisso il generatore casuale per la riproducibilità dell'esperimento\n",
    "\n",
    "def KNN(k, X, y, x):\n",
    "    distances = norm(X - x, axis=1)\n",
    "    sorted_labels = y[distances.argsort()]\n",
    "    return np.argmax(np.bincount(sorted_labels[:k]))\n",
    "\n",
    "def one_line_KNN(k, X, y, x):\n",
    "    return np.argmax(np.bincount(y[norm(X - x, axis=1).argsort()][:k]))\n",
    "\n",
    "X_train = np.random.random((7,4))\n",
    "y_train = np.random.randint(0, 2, (7))\n",
    "x_new = np.random.random((4,))\n",
    "\n",
    "print('Matrice delle feature:\\n', X_train)\n",
    "\n",
    "print('\\nVettore delle etichette:', y_train)\n",
    "\n",
    "print('\\nNuovo esempio da classificare:', x_new)\n",
    "\n",
    "print('\\nPredizione (k=3):', one_line_KNN(3, X_train, y_train, x_new))\n",
    "print('Predizione (k=5):', one_line_KNN(5, X_train, y_train, x_new))"
   ]
  },
  {
   "cell_type": "markdown",
   "metadata": {},
   "source": [
    "7.3\n",
    "---"
   ]
  },
  {
   "cell_type": "code",
   "execution_count": 38,
   "metadata": {},
   "outputs": [
    {
     "name": "stdout",
     "output_type": "stream",
     "text": [
      ".. _boston_dataset:\n",
      "\n",
      "Boston house prices dataset\n",
      "---------------------------\n",
      "\n",
      "**Data Set Characteristics:**  \n",
      "\n",
      "    :Number of Instances: 506 \n",
      "\n",
      "    :Number of Attributes: 13 numeric/categorical predictive. Median Value (attribute 14) is usually the target.\n",
      "\n",
      "    :Attribute Information (in order):\n",
      "        - CRIM     per capita crime rate by town\n",
      "        - ZN       proportion of residential land zoned for lots over 25,000 sq.ft.\n",
      "        - INDUS    proportion of non-retail business acres per town\n",
      "        - CHAS     Charles River dummy variable (= 1 if tract bounds river; 0 otherwise)\n",
      "        - NOX      nitric oxides concentration (parts per 10 million)\n",
      "        - RM       average number of rooms per dwelling\n",
      "        - AGE      proportion of owner-occupied units built prior to 1940\n",
      "        - DIS      weighted distances to five Boston employment centres\n",
      "        - RAD      index of accessibility to radial highways\n",
      "        - TAX      full-value property-tax rate per $10,000\n",
      "        - PTRATIO  pupil-teacher ratio by town\n",
      "        - B        1000(Bk - 0.63)^2 where Bk is the proportion of blacks by town\n",
      "        - LSTAT    % lower status of the population\n",
      "        - MEDV     Median value of owner-occupied homes in $1000's\n",
      "\n",
      "    :Missing Attribute Values: None\n",
      "\n",
      "    :Creator: Harrison, D. and Rubinfeld, D.L.\n",
      "\n",
      "This is a copy of UCI ML housing dataset.\n",
      "https://archive.ics.uci.edu/ml/machine-learning-databases/housing/\n",
      "\n",
      "\n",
      "This dataset was taken from the StatLib library which is maintained at Carnegie Mellon University.\n",
      "\n",
      "The Boston house-price data of Harrison, D. and Rubinfeld, D.L. 'Hedonic\n",
      "prices and the demand for clean air', J. Environ. Economics & Management,\n",
      "vol.5, 81-102, 1978.   Used in Belsley, Kuh & Welsch, 'Regression diagnostics\n",
      "...', Wiley, 1980.   N.B. Various transformations are used in the table on\n",
      "pages 244-261 of the latter.\n",
      "\n",
      "The Boston house-price data has been used in many machine learning papers that address regression\n",
      "problems.   \n",
      "     \n",
      ".. topic:: References\n",
      "\n",
      "   - Belsley, Kuh & Welsch, 'Regression diagnostics: Identifying Influential Data and Sources of Collinearity', Wiley, 1980. 244-261.\n",
      "   - Quinlan,R. (1993). Combining Instance-Based and Model-Based Learning. In Proceedings on the Tenth International Conference of Machine Learning, 236-243, University of Massachusetts, Amherst. Morgan Kaufmann.\n",
      "\n"
     ]
    }
   ],
   "source": [
    "#Importo librerie\n",
    "from sklearn import datasets, neighbors\n",
    "from sklearn.utils import shuffle\n",
    "from sklearn.preprocessing import MinMaxScaler\n",
    "from sklearn.neighbors import KNeighborsRegressor as KNN\n",
    "from sklearn.metrics import mean_absolute_error\n",
    "\n",
    "#Carico il dataset\n",
    "boston = datasets.load_boston()\n",
    "X, y = boston['data'], boston['target']\n",
    "\n",
    "print(boston['DESCR'])"
   ]
  },
  {
   "cell_type": "code",
   "execution_count": 39,
   "metadata": {},
   "outputs": [
    {
     "name": "stdout",
     "output_type": "stream",
     "text": [
      "Model MAE on test set: 2.845\n"
     ]
    }
   ],
   "source": [
    "#Scalo le feature tra 0 e 1\n",
    "scaler = MinMaxScaler()\n",
    "X = scaler.fit_transform(X)\n",
    "\n",
    "#Separo train e test\n",
    "X, y = shuffle(X, y, random_state=0)\n",
    "X_train, X_test = X[:400], X[400:]\n",
    "y_train, y_test = y[:400], y[400:]\n",
    "\n",
    "#Addestro il modello\n",
    "model = KNN(n_neighbors=3).fit(X_train, y_train)\n",
    "\n",
    "#Ottengo predizioni e valuto il mae\n",
    "predictions = model.predict(X_test)\n",
    "mae = mean_absolute_error(y_test, predictions)\n",
    "print('Model MAE on test set: {:.3f}'.format(mae))"
   ]
  },
  {
   "cell_type": "markdown",
   "metadata": {},
   "source": [
    "7.4\n",
    "---"
   ]
  },
  {
   "cell_type": "code",
   "execution_count": 40,
   "metadata": {},
   "outputs": [
    {
     "name": "stdout",
     "output_type": "stream",
     "text": [
      "(75, 4) (25, 4) (50, 4)\n"
     ]
    }
   ],
   "source": [
    "from sklearn.datasets import load_iris\n",
    "from sklearn.preprocessing import MinMaxScaler\n",
    "from sklearn.utils import shuffle\n",
    "from sklearn.neighbors import KNeighborsClassifier as KNN\n",
    "from sklearn.metrics import accuracy_score\n",
    "import numpy as np\n",
    "\n",
    "#Carico il dataset\n",
    "iris = load_iris()\n",
    "X, y = iris['data'], iris['target']\n",
    "\n",
    "#Scalo le feature tra 0 e 1\n",
    "scaler = MinMaxScaler()\n",
    "X = scaler.fit_transform(X)\n",
    "\n",
    "#Separo train , validation e test\n",
    "X, y = shuffle(X, y, random_state=123)\n",
    "X_tr, X_val, X_test = X[:75], X[75:100], X[100:]\n",
    "y_tr, y_val, y_test = y[:75], y[75:100], y[100:]\n",
    "\n",
    "print(X_tr.shape, X_val.shape, X_test.shape)"
   ]
  },
  {
   "cell_type": "code",
   "execution_count": 41,
   "metadata": {},
   "outputs": [
    {
     "name": "stdout",
     "output_type": "stream",
     "text": [
      "Validation accuracy with k 1: 0.92\n",
      "Validation accuracy with k 2: 0.96\n",
      "Validation accuracy with k 3: 0.92\n",
      "Validation accuracy with k 5: 0.92\n",
      "Validation accuracy with k 10: 0.92\n"
     ]
    }
   ],
   "source": [
    "for k in [1,2,3,5,10]:\n",
    "    model = KNN(n_neighbors=k)\n",
    "    model.fit(X_tr, y_tr)\n",
    "    predictions = model.predict(X_val)\n",
    "    validation_accuracy = accuracy_score(y_val, predictions)\n",
    "    print('Validation accuracy with k {}: {:.2f}'.format(k, validation_accuracy))   "
   ]
  },
  {
   "cell_type": "code",
   "execution_count": 42,
   "metadata": {},
   "outputs": [
    {
     "name": "stdout",
     "output_type": "stream",
     "text": [
      "(100, 4) (100,)\n"
     ]
    }
   ],
   "source": [
    "X_train = np.vstack([X_tr, X_val])\n",
    "y_train = np.hstack([y_tr, y_val])\n",
    "\n",
    "print(X_train.shape, y_train.shape)"
   ]
  },
  {
   "cell_type": "code",
   "execution_count": 43,
   "metadata": {},
   "outputs": [
    {
     "name": "stdout",
     "output_type": "stream",
     "text": [
      "Test accuracy: 0.96\n"
     ]
    }
   ],
   "source": [
    "predictions = KNN(n_neighbors=2).fit(X_train, y_train).predict(X_test)\n",
    "print('Test accuracy:', accuracy_score(y_test, predictions))"
   ]
  },
  {
   "cell_type": "markdown",
   "metadata": {},
   "source": [
    "In questo caso utilizzare tutti i dati del training set per il test finale non ha migliorato l'accuratezza del modello."
   ]
  },
  {
   "cell_type": "markdown",
   "metadata": {},
   "source": [
    "8.1\n",
    "---"
   ]
  },
  {
   "cell_type": "code",
   "execution_count": 44,
   "metadata": {},
   "outputs": [
    {
     "data": {
      "text/plain": [
       "PassengerId\n",
       "1                                Braund, Mr. Owen Harris\n",
       "2      Cumings, Mrs. John Bradley (Florence Briggs Th...\n",
       "3                                 Heikkinen, Miss. Laina\n",
       "4           Futrelle, Mrs. Jacques Heath (Lily May Peel)\n",
       "5                               Allen, Mr. William Henry\n",
       "                             ...                        \n",
       "887                                Montvila, Rev. Juozas\n",
       "888                         Graham, Miss. Margaret Edith\n",
       "889             Johnston, Miss. Catherine Helen \"Carrie\"\n",
       "890                                Behr, Mr. Karl Howell\n",
       "891                                  Dooley, Mr. Patrick\n",
       "Name: Name, Length: 891, dtype: object"
      ]
     },
     "execution_count": 44,
     "metadata": {},
     "output_type": "execute_result"
    }
   ],
   "source": [
    "import pandas as pd\n",
    "\n",
    "df = pd.read_csv('data/titanic.csv', index_col='PassengerId')\n",
    "df.rename(columns={'Sex':'Gender'}, inplace=True)\n",
    "\n",
    "df['Name']"
   ]
  },
  {
   "cell_type": "code",
   "execution_count": 45,
   "metadata": {},
   "outputs": [
    {
     "data": {
      "text/plain": [
       "'Braund, Mr. Owen Harris'"
      ]
     },
     "execution_count": 45,
     "metadata": {},
     "output_type": "execute_result"
    }
   ],
   "source": [
    "df['Name'].iloc[0]"
   ]
  },
  {
   "cell_type": "code",
   "execution_count": 46,
   "metadata": {},
   "outputs": [],
   "source": [
    "name = df['Name'].iloc[0]"
   ]
  },
  {
   "cell_type": "code",
   "execution_count": 47,
   "metadata": {},
   "outputs": [
    {
     "data": {
      "text/plain": [
       "'Braund, Mr. Owen Harris'"
      ]
     },
     "execution_count": 47,
     "metadata": {},
     "output_type": "execute_result"
    }
   ],
   "source": [
    "name"
   ]
  },
  {
   "cell_type": "code",
   "execution_count": 48,
   "metadata": {},
   "outputs": [
    {
     "data": {
      "text/plain": [
       "6"
      ]
     },
     "execution_count": 48,
     "metadata": {},
     "output_type": "execute_result"
    }
   ],
   "source": [
    "name.index(',')"
   ]
  },
  {
   "cell_type": "code",
   "execution_count": 49,
   "metadata": {},
   "outputs": [
    {
     "data": {
      "text/plain": [
       "','"
      ]
     },
     "execution_count": 49,
     "metadata": {},
     "output_type": "execute_result"
    }
   ],
   "source": [
    "name[name.index(',')]"
   ]
  },
  {
   "cell_type": "code",
   "execution_count": 50,
   "metadata": {},
   "outputs": [
    {
     "data": {
      "text/plain": [
       "'M'"
      ]
     },
     "execution_count": 50,
     "metadata": {},
     "output_type": "execute_result"
    }
   ],
   "source": [
    "name[name.index(',') + 2]"
   ]
  },
  {
   "cell_type": "code",
   "execution_count": 51,
   "metadata": {},
   "outputs": [
    {
     "data": {
      "text/plain": [
       "10"
      ]
     },
     "execution_count": 51,
     "metadata": {},
     "output_type": "execute_result"
    }
   ],
   "source": [
    "name.index('.')"
   ]
  },
  {
   "cell_type": "code",
   "execution_count": 52,
   "metadata": {},
   "outputs": [
    {
     "data": {
      "text/plain": [
       "'Mr'"
      ]
     },
     "execution_count": 52,
     "metadata": {},
     "output_type": "execute_result"
    }
   ],
   "source": [
    "name[name.index(',') + 2 : name.index('.')]"
   ]
  },
  {
   "cell_type": "code",
   "execution_count": 53,
   "metadata": {},
   "outputs": [
    {
     "data": {
      "text/plain": [
       "PassengerId\n",
       "1        Mr\n",
       "2       Mrs\n",
       "3      Miss\n",
       "4       Mrs\n",
       "5        Mr\n",
       "       ... \n",
       "887     Rev\n",
       "888    Miss\n",
       "889    Miss\n",
       "890      Mr\n",
       "891      Mr\n",
       "Name: Name, Length: 891, dtype: object"
      ]
     },
     "execution_count": 53,
     "metadata": {},
     "output_type": "execute_result"
    }
   ],
   "source": [
    "df['Name'].apply(lambda name: name[name.index(',') + 2 : name.index('.')])"
   ]
  },
  {
   "cell_type": "code",
   "execution_count": 54,
   "metadata": {},
   "outputs": [],
   "source": [
    "df['Title'] = df['Name'].apply(lambda name: name[name.index(',') + 2 : name.index('.')])"
   ]
  },
  {
   "cell_type": "code",
   "execution_count": 55,
   "metadata": {},
   "outputs": [
    {
     "data": {
      "text/html": [
       "<div>\n",
       "<style scoped>\n",
       "    .dataframe tbody tr th:only-of-type {\n",
       "        vertical-align: middle;\n",
       "    }\n",
       "\n",
       "    .dataframe tbody tr th {\n",
       "        vertical-align: top;\n",
       "    }\n",
       "\n",
       "    .dataframe thead th {\n",
       "        text-align: right;\n",
       "    }\n",
       "</style>\n",
       "<table border=\"1\" class=\"dataframe\">\n",
       "  <thead>\n",
       "    <tr style=\"text-align: right;\">\n",
       "      <th></th>\n",
       "      <th>Name</th>\n",
       "      <th>Title</th>\n",
       "    </tr>\n",
       "    <tr>\n",
       "      <th>PassengerId</th>\n",
       "      <th></th>\n",
       "      <th></th>\n",
       "    </tr>\n",
       "  </thead>\n",
       "  <tbody>\n",
       "    <tr>\n",
       "      <th>1</th>\n",
       "      <td>Braund, Mr. Owen Harris</td>\n",
       "      <td>Mr</td>\n",
       "    </tr>\n",
       "    <tr>\n",
       "      <th>2</th>\n",
       "      <td>Cumings, Mrs. John Bradley (Florence Briggs Th...</td>\n",
       "      <td>Mrs</td>\n",
       "    </tr>\n",
       "    <tr>\n",
       "      <th>3</th>\n",
       "      <td>Heikkinen, Miss. Laina</td>\n",
       "      <td>Miss</td>\n",
       "    </tr>\n",
       "    <tr>\n",
       "      <th>4</th>\n",
       "      <td>Futrelle, Mrs. Jacques Heath (Lily May Peel)</td>\n",
       "      <td>Mrs</td>\n",
       "    </tr>\n",
       "    <tr>\n",
       "      <th>5</th>\n",
       "      <td>Allen, Mr. William Henry</td>\n",
       "      <td>Mr</td>\n",
       "    </tr>\n",
       "    <tr>\n",
       "      <th>6</th>\n",
       "      <td>Moran, Mr. James</td>\n",
       "      <td>Mr</td>\n",
       "    </tr>\n",
       "    <tr>\n",
       "      <th>7</th>\n",
       "      <td>McCarthy, Mr. Timothy J</td>\n",
       "      <td>Mr</td>\n",
       "    </tr>\n",
       "    <tr>\n",
       "      <th>8</th>\n",
       "      <td>Palsson, Master. Gosta Leonard</td>\n",
       "      <td>Master</td>\n",
       "    </tr>\n",
       "    <tr>\n",
       "      <th>9</th>\n",
       "      <td>Johnson, Mrs. Oscar W (Elisabeth Vilhelmina Berg)</td>\n",
       "      <td>Mrs</td>\n",
       "    </tr>\n",
       "    <tr>\n",
       "      <th>10</th>\n",
       "      <td>Nasser, Mrs. Nicholas (Adele Achem)</td>\n",
       "      <td>Mrs</td>\n",
       "    </tr>\n",
       "    <tr>\n",
       "      <th>11</th>\n",
       "      <td>Sandstrom, Miss. Marguerite Rut</td>\n",
       "      <td>Miss</td>\n",
       "    </tr>\n",
       "    <tr>\n",
       "      <th>12</th>\n",
       "      <td>Bonnell, Miss. Elizabeth</td>\n",
       "      <td>Miss</td>\n",
       "    </tr>\n",
       "    <tr>\n",
       "      <th>13</th>\n",
       "      <td>Saundercock, Mr. William Henry</td>\n",
       "      <td>Mr</td>\n",
       "    </tr>\n",
       "    <tr>\n",
       "      <th>14</th>\n",
       "      <td>Andersson, Mr. Anders Johan</td>\n",
       "      <td>Mr</td>\n",
       "    </tr>\n",
       "    <tr>\n",
       "      <th>15</th>\n",
       "      <td>Vestrom, Miss. Hulda Amanda Adolfina</td>\n",
       "      <td>Miss</td>\n",
       "    </tr>\n",
       "    <tr>\n",
       "      <th>16</th>\n",
       "      <td>Hewlett, Mrs. (Mary D Kingcome)</td>\n",
       "      <td>Mrs</td>\n",
       "    </tr>\n",
       "    <tr>\n",
       "      <th>17</th>\n",
       "      <td>Rice, Master. Eugene</td>\n",
       "      <td>Master</td>\n",
       "    </tr>\n",
       "    <tr>\n",
       "      <th>18</th>\n",
       "      <td>Williams, Mr. Charles Eugene</td>\n",
       "      <td>Mr</td>\n",
       "    </tr>\n",
       "    <tr>\n",
       "      <th>19</th>\n",
       "      <td>Vander Planke, Mrs. Julius (Emelia Maria Vande...</td>\n",
       "      <td>Mrs</td>\n",
       "    </tr>\n",
       "    <tr>\n",
       "      <th>20</th>\n",
       "      <td>Masselmani, Mrs. Fatima</td>\n",
       "      <td>Mrs</td>\n",
       "    </tr>\n",
       "  </tbody>\n",
       "</table>\n",
       "</div>"
      ],
      "text/plain": [
       "                                                          Name   Title\n",
       "PassengerId                                                           \n",
       "1                                      Braund, Mr. Owen Harris      Mr\n",
       "2            Cumings, Mrs. John Bradley (Florence Briggs Th...     Mrs\n",
       "3                                       Heikkinen, Miss. Laina    Miss\n",
       "4                 Futrelle, Mrs. Jacques Heath (Lily May Peel)     Mrs\n",
       "5                                     Allen, Mr. William Henry      Mr\n",
       "6                                             Moran, Mr. James      Mr\n",
       "7                                      McCarthy, Mr. Timothy J      Mr\n",
       "8                               Palsson, Master. Gosta Leonard  Master\n",
       "9            Johnson, Mrs. Oscar W (Elisabeth Vilhelmina Berg)     Mrs\n",
       "10                         Nasser, Mrs. Nicholas (Adele Achem)     Mrs\n",
       "11                             Sandstrom, Miss. Marguerite Rut    Miss\n",
       "12                                    Bonnell, Miss. Elizabeth    Miss\n",
       "13                              Saundercock, Mr. William Henry      Mr\n",
       "14                                 Andersson, Mr. Anders Johan      Mr\n",
       "15                        Vestrom, Miss. Hulda Amanda Adolfina    Miss\n",
       "16                            Hewlett, Mrs. (Mary D Kingcome)      Mrs\n",
       "17                                        Rice, Master. Eugene  Master\n",
       "18                                Williams, Mr. Charles Eugene      Mr\n",
       "19           Vander Planke, Mrs. Julius (Emelia Maria Vande...     Mrs\n",
       "20                                     Masselmani, Mrs. Fatima     Mrs"
      ]
     },
     "execution_count": 55,
     "metadata": {},
     "output_type": "execute_result"
    }
   ],
   "source": [
    "df[['Name', 'Title']].head(20)"
   ]
  },
  {
   "cell_type": "code",
   "execution_count": 56,
   "metadata": {},
   "outputs": [
    {
     "data": {
      "text/plain": [
       "Mr              517\n",
       "Miss            182\n",
       "Mrs             125\n",
       "Master           40\n",
       "Dr                7\n",
       "Rev               6\n",
       "Mlle              2\n",
       "Col               2\n",
       "Major             2\n",
       "Jonkheer          1\n",
       "Ms                1\n",
       "Lady              1\n",
       "Don               1\n",
       "Capt              1\n",
       "Mme               1\n",
       "Sir               1\n",
       "the Countess      1\n",
       "Name: Title, dtype: int64"
      ]
     },
     "execution_count": 56,
     "metadata": {},
     "output_type": "execute_result"
    }
   ],
   "source": [
    "df.Title.value_counts()"
   ]
  },
  {
   "cell_type": "code",
   "execution_count": 57,
   "metadata": {},
   "outputs": [
    {
     "data": {
      "text/html": [
       "<div>\n",
       "<style scoped>\n",
       "    .dataframe tbody tr th:only-of-type {\n",
       "        vertical-align: middle;\n",
       "    }\n",
       "\n",
       "    .dataframe tbody tr th {\n",
       "        vertical-align: top;\n",
       "    }\n",
       "\n",
       "    .dataframe thead th {\n",
       "        text-align: right;\n",
       "    }\n",
       "</style>\n",
       "<table border=\"1\" class=\"dataframe\">\n",
       "  <thead>\n",
       "    <tr style=\"text-align: right;\">\n",
       "      <th></th>\n",
       "      <th>Survived</th>\n",
       "      <th>Pclass</th>\n",
       "      <th>Name</th>\n",
       "      <th>Gender</th>\n",
       "      <th>Age</th>\n",
       "      <th>SibSp</th>\n",
       "      <th>Parch</th>\n",
       "      <th>Ticket</th>\n",
       "      <th>Fare</th>\n",
       "      <th>Cabin</th>\n",
       "      <th>Embarked</th>\n",
       "      <th>Title</th>\n",
       "    </tr>\n",
       "    <tr>\n",
       "      <th>PassengerId</th>\n",
       "      <th></th>\n",
       "      <th></th>\n",
       "      <th></th>\n",
       "      <th></th>\n",
       "      <th></th>\n",
       "      <th></th>\n",
       "      <th></th>\n",
       "      <th></th>\n",
       "      <th></th>\n",
       "      <th></th>\n",
       "      <th></th>\n",
       "      <th></th>\n",
       "    </tr>\n",
       "  </thead>\n",
       "  <tbody>\n",
       "    <tr>\n",
       "      <th>760</th>\n",
       "      <td>1</td>\n",
       "      <td>1</td>\n",
       "      <td>Rothes, the Countess. of (Lucy Noel Martha Dye...</td>\n",
       "      <td>female</td>\n",
       "      <td>33.0</td>\n",
       "      <td>0</td>\n",
       "      <td>0</td>\n",
       "      <td>110152</td>\n",
       "      <td>86.5</td>\n",
       "      <td>B77</td>\n",
       "      <td>S</td>\n",
       "      <td>the Countess</td>\n",
       "    </tr>\n",
       "  </tbody>\n",
       "</table>\n",
       "</div>"
      ],
      "text/plain": [
       "             Survived  Pclass  \\\n",
       "PassengerId                     \n",
       "760                 1       1   \n",
       "\n",
       "                                                          Name  Gender   Age  \\\n",
       "PassengerId                                                                    \n",
       "760          Rothes, the Countess. of (Lucy Noel Martha Dye...  female  33.0   \n",
       "\n",
       "             SibSp  Parch  Ticket  Fare Cabin Embarked         Title  \n",
       "PassengerId                                                           \n",
       "760              0      0  110152  86.5   B77        S  the Countess  "
      ]
     },
     "execution_count": 57,
     "metadata": {},
     "output_type": "execute_result"
    }
   ],
   "source": [
    "df[df.Title == \"the Countess\"]#.Survived"
   ]
  },
  {
   "cell_type": "markdown",
   "metadata": {},
   "source": [
    "8.2\n",
    "---"
   ]
  },
  {
   "cell_type": "markdown",
   "metadata": {},
   "source": [
    "Il modello $M_{gender}$ dice la cosa giusta quando:\n",
    "- una femmina sopravvive\n",
    "- un maschio muore.\n",
    "\n",
    "Quindi, per calcolarne l'accuratezza, abbiamo bisogno\n",
    "- della probabilità di essere femmina o maschio\n",
    "- della probabilità di sopravvivenza delle femmine e dei maschi.\n",
    "\n",
    "Come combinare questi quattro valori?"
   ]
  },
  {
   "cell_type": "markdown",
   "metadata": {},
   "source": [
    "Contiamo per prima cosa i maschi e le femmine."
   ]
  },
  {
   "cell_type": "code",
   "execution_count": 58,
   "metadata": {},
   "outputs": [
    {
     "data": {
      "text/plain": [
       "(891, 12)"
      ]
     },
     "execution_count": 58,
     "metadata": {},
     "output_type": "execute_result"
    }
   ],
   "source": [
    "df.shape"
   ]
  },
  {
   "cell_type": "code",
   "execution_count": 59,
   "metadata": {},
   "outputs": [
    {
     "data": {
      "text/plain": [
       "male      577\n",
       "female    314\n",
       "Name: Gender, dtype: int64"
      ]
     },
     "execution_count": 59,
     "metadata": {},
     "output_type": "execute_result"
    }
   ],
   "source": [
    "df.Gender.value_counts()"
   ]
  },
  {
   "cell_type": "code",
   "execution_count": 60,
   "metadata": {},
   "outputs": [
    {
     "data": {
      "text/plain": [
       "male      0.647587\n",
       "female    0.352413\n",
       "Name: Gender, dtype: float64"
      ]
     },
     "execution_count": 60,
     "metadata": {},
     "output_type": "execute_result"
    }
   ],
   "source": [
    "df.Gender.value_counts() / df.shape[0]"
   ]
  },
  {
   "cell_type": "code",
   "execution_count": 61,
   "metadata": {},
   "outputs": [
    {
     "data": {
      "text/plain": [
       "male      0.647587\n",
       "female    0.352413\n",
       "Name: Gender, dtype: float64"
      ]
     },
     "execution_count": 61,
     "metadata": {},
     "output_type": "execute_result"
    }
   ],
   "source": [
    "df.Gender.value_counts(normalize=True)"
   ]
  },
  {
   "cell_type": "markdown",
   "metadata": {},
   "source": [
    "Adesso usiamo groupby per\n",
    "\n",
    "- raggruppare i dati in base alla colonna *Gender*\n",
    "- estrarre da entrambi i gruppi (femmine e maschi) la colonna *Survived*, sotto forma di Series di valori interi (0 o 1).\n",
    "\n",
    "La media di ognuno di questi due vettori (uno per le femmine e uno per i maschi), sarà pari alla *probabilità di sopravvivenza* del rispettivo gruppo."
   ]
  },
  {
   "cell_type": "code",
   "execution_count": 62,
   "metadata": {},
   "outputs": [
    {
     "data": {
      "text/plain": [
       "Gender\n",
       "female    0.742038\n",
       "male      0.188908\n",
       "Name: Survived, dtype: float64"
      ]
     },
     "execution_count": 62,
     "metadata": {},
     "output_type": "execute_result"
    }
   ],
   "source": [
    "df.groupby('Gender')['Survived'].mean()"
   ]
  },
  {
   "cell_type": "markdown",
   "metadata": {},
   "source": [
    "Tornando all'accuratezza del modello $M_{gender}$, questa sarà pari a:\n",
    "\n",
    "$$P_{female} \\cdot SP_{female} + P_{male} \\cdot (1 - SP_{male})$$"
   ]
  },
  {
   "cell_type": "code",
   "execution_count": 63,
   "metadata": {},
   "outputs": [],
   "source": [
    "is_female = (df.Gender == 'female')\n",
    "is_male = (df.Gender == 'male')\n",
    "survives = (df.Survived == 1)\n",
    "dies = (df.Survived == 0)"
   ]
  },
  {
   "cell_type": "code",
   "execution_count": 64,
   "metadata": {},
   "outputs": [
    {
     "data": {
      "text/plain": [
       "233"
      ]
     },
     "execution_count": 64,
     "metadata": {},
     "output_type": "execute_result"
    }
   ],
   "source": [
    "a = len(df[is_female & survives])\n",
    "\n",
    "a"
   ]
  },
  {
   "cell_type": "code",
   "execution_count": 65,
   "metadata": {},
   "outputs": [
    {
     "data": {
      "text/plain": [
       "468"
      ]
     },
     "execution_count": 65,
     "metadata": {},
     "output_type": "execute_result"
    }
   ],
   "source": [
    "b = len(df[is_male & dies])\n",
    "\n",
    "b"
   ]
  },
  {
   "cell_type": "code",
   "execution_count": 66,
   "metadata": {},
   "outputs": [
    {
     "data": {
      "text/plain": [
       "0.7867564534231201"
      ]
     },
     "execution_count": 66,
     "metadata": {},
     "output_type": "execute_result"
    }
   ],
   "source": [
    "(a + b) / len(df)"
   ]
  },
  {
   "cell_type": "code",
   "execution_count": 67,
   "metadata": {},
   "outputs": [
    {
     "data": {
      "text/plain": [
       "(0.6475869809203143, 0.35241301907968575)"
      ]
     },
     "execution_count": 67,
     "metadata": {},
     "output_type": "execute_result"
    }
   ],
   "source": [
    "P_male, P_female = df.Gender.value_counts(normalize=True)\n",
    "\n",
    "P_male, P_female"
   ]
  },
  {
   "cell_type": "code",
   "execution_count": 68,
   "metadata": {},
   "outputs": [
    {
     "data": {
      "text/plain": [
       "(0.7420382165605095, 0.18890814558058924)"
      ]
     },
     "execution_count": 68,
     "metadata": {},
     "output_type": "execute_result"
    }
   ],
   "source": [
    "SP_female, SP_male = df.groupby('Gender')['Survived'].mean()\n",
    "\n",
    "SP_female, SP_male"
   ]
  },
  {
   "cell_type": "code",
   "execution_count": 69,
   "metadata": {},
   "outputs": [
    {
     "data": {
      "text/plain": [
       "0.7867564534231202"
      ]
     },
     "execution_count": 69,
     "metadata": {},
     "output_type": "execute_result"
    }
   ],
   "source": [
    "P_female*SP_female + P_male*(1 - SP_male)"
   ]
  },
  {
   "cell_type": "markdown",
   "metadata": {},
   "source": [
    "8.3\n",
    "---"
   ]
  },
  {
   "cell_type": "code",
   "execution_count": 70,
   "metadata": {},
   "outputs": [
    {
     "data": {
      "text/html": [
       "<div>\n",
       "<style scoped>\n",
       "    .dataframe tbody tr th:only-of-type {\n",
       "        vertical-align: middle;\n",
       "    }\n",
       "\n",
       "    .dataframe tbody tr th {\n",
       "        vertical-align: top;\n",
       "    }\n",
       "\n",
       "    .dataframe thead th {\n",
       "        text-align: right;\n",
       "    }\n",
       "</style>\n",
       "<table border=\"1\" class=\"dataframe\">\n",
       "  <thead>\n",
       "    <tr style=\"text-align: right;\">\n",
       "      <th></th>\n",
       "      <th>mean_age</th>\n",
       "      <th>most_frequent_title</th>\n",
       "      <th>no_cabin_info</th>\n",
       "    </tr>\n",
       "    <tr>\n",
       "      <th>Gender</th>\n",
       "      <th></th>\n",
       "      <th></th>\n",
       "      <th></th>\n",
       "    </tr>\n",
       "  </thead>\n",
       "  <tbody>\n",
       "    <tr>\n",
       "      <th>female</th>\n",
       "      <td>27.915709</td>\n",
       "      <td>Miss</td>\n",
       "      <td>0.691083</td>\n",
       "    </tr>\n",
       "    <tr>\n",
       "      <th>male</th>\n",
       "      <td>30.726645</td>\n",
       "      <td>Mr</td>\n",
       "      <td>0.814558</td>\n",
       "    </tr>\n",
       "  </tbody>\n",
       "</table>\n",
       "</div>"
      ],
      "text/plain": [
       "         mean_age most_frequent_title  no_cabin_info\n",
       "Gender                                              \n",
       "female  27.915709                Miss       0.691083\n",
       "male    30.726645                  Mr       0.814558"
      ]
     },
     "execution_count": 70,
     "metadata": {},
     "output_type": "execute_result"
    }
   ],
   "source": [
    "aggregations = {'mean_age':pd.NamedAgg('Age', 'mean'),\n",
    "                'most_frequent_title':pd.NamedAgg('Title', lambda t : t.mode()),\n",
    "                'no_cabin_info':pd.NamedAgg('Cabin', lambda c : c.isna().sum() / c.size)}\n",
    "\n",
    "df.groupby('Gender').agg(**aggregations)"
   ]
  },
  {
   "cell_type": "markdown",
   "metadata": {},
   "source": [
    "<script>\n",
    "  $(document).ready(function(){\n",
    "    $('div.back-to-top').hide();\n",
    "    $('nav#menubar').hide();\n",
    "    $('div.prompt').hide();\n",
    "    $('.hidden-print').hide();\n",
    "  });\n",
    "</script>\n",
    "\n",
    "<footer id=\"attribution\" style=\"float:right; color:#999; background:#fff;\">\n",
    "Created with Jupyter, delivered by Fastly, rendered by Rackspace.\n",
    "</footer>"
   ]
  }
 ],
 "metadata": {
  "kernelspec": {
   "display_name": "Python 3",
   "language": "python",
   "name": "python3"
  },
  "language_info": {
   "codemirror_mode": {
    "name": "ipython",
    "version": 3
   },
   "file_extension": ".py",
   "mimetype": "text/x-python",
   "name": "python",
   "nbconvert_exporter": "python",
   "pygments_lexer": "ipython3",
   "version": "3.8.5"
  }
 },
 "nbformat": 4,
 "nbformat_minor": 2
}
