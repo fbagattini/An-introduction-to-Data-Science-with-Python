{
 "cells": [
  {
   "cell_type": "markdown",
   "metadata": {},
   "source": [
    "*Contenuti*\n",
    "===\n",
    "- [Un database di immobili](#Un-database-di-immobili)\n",
    "- [Dizionari: definizione e sintassi](#Dizionari:-definizione-e-sintassi)\n",
    "- [Accesso](#Accesso)\n",
    "- [Operazioni su dizionario](#Operazioni-su-dizionario)\n",
    "- [Ciclo sugli elementi di un dizionario](#Ciclo-sugli-elementi-di-un-dizionario)\n",
    "- [*Esercizio 1*](#Esercizio-1)\n",
    "- [*Esercizio 2*](#Esercizio-2)\n",
    "- [*Esercizio 3*](#Esercizio-3)"
   ]
  },
  {
   "cell_type": "markdown",
   "metadata": {},
   "source": [
    "Un database di immobili\n",
    "===\n",
    "Spesso gli elementi di una lista hanno un significato particolare. Immaginiamo ad esempio di costruire un database di immobili, definiti da:\n",
    "\n",
    "- coordinate, come coppia (lon,lat) in gradi decimali\n",
    "- estensione in mq\n",
    "- presenza di terreno\n",
    "- prezzo, in migliaia di Euro\n",
    "\n",
    "Possiamo realizzare il database come una lista. A sua volta, ogni immobile sarà una lista di informazioni. Immaginiamo anche che il database sia inizialmente vuoto, e che venga popolato di un nuovo record ogni volta che un immobile viene registrato (per esempio, attraverso il form di un applicativo)."
   ]
  },
  {
   "cell_type": "code",
   "execution_count": 1,
   "metadata": {},
   "outputs": [
    {
     "name": "stdout",
     "output_type": "stream",
     "text": [
      "\n",
      "Immobile #0\n",
      "Coordinate: [12.3456, -56.789]\n",
      "Estensione (mq): 2000\n",
      "Terreno annesso?: No\n",
      "Prezzo: 10K Euro\n",
      "\n",
      "Immobile #1\n",
      "Coordinate: [-8.9101, 60.1234]\n",
      "Estensione (mq): 12000\n",
      "Terreno annesso?: No\n",
      "Prezzo: 125K Euro\n",
      "\n",
      "Immobile #2\n",
      "Coordinate: [45.6789, 10.3456]\n",
      "Estensione (mq): 100\n",
      "Terreno annesso?: Sì\n",
      "Prezzo: 350K Euro\n"
     ]
    }
   ],
   "source": [
    "estates = []#database vuoto\n",
    "\n",
    "e1 = [[12.3456, -56.7890], 2000 , False,   10]#creazione immobile\n",
    "estates += [e1]#aggiunta immobile al db\n",
    "\n",
    "e2 = [[-8.9101,  60.1234], 12000, False,  125]\n",
    "estates += [e2]\n",
    "\n",
    "e3 = [[45.6789,  10.3456], 100  , True,  350]\n",
    "estates += [e3]\n",
    "\n",
    "for i, e in enumerate(estates):\n",
    "    print('\\nImmobile #{}'.format(i))#'\\n' va a capo\n",
    "    print('Coordinate: {}'.format(e[0]))\n",
    "    print('Estensione (mq): {}'.format(e[1]))\n",
    "    print('Terreno annesso?: {}'.format('Sì' if e[2] else 'No'))\n",
    "    print('Prezzo: {}K Euro'.format(e[3]))"
   ]
  },
  {
   "cell_type": "markdown",
   "metadata": {},
   "source": [
    "Quando le informazioni di un immobile sono tante, però, gestirle in questo modo diventa scomodo. Per accedere ad una proprietà dell'immobile, infatti, dobbiamo conoscerne la posizione nella lista."
   ]
  },
  {
   "cell_type": "markdown",
   "metadata": {},
   "source": [
    "Dizionari: definizione e sintassi\n",
    "===\n",
    "\n",
    "Un *dizionario* è un contenitore speciale in cui ogni elemento ha una *chiave* (cioè un identificatore univoco) e un *valore*. A differenza di una lista, associa quindi una semantica ai suoi elementi."
   ]
  },
  {
   "cell_type": "code",
   "execution_count": null,
   "metadata": {},
   "outputs": [],
   "source": [
    "dictionary_name = {key1:value1, key1:value2}"
   ]
  },
  {
   "cell_type": "markdown",
   "metadata": {},
   "source": [
    "Il codice qui sopra è un esempio generale di come si dichiara un dizionario. \n",
    "\n",
    "- usiamo le parentesi graffe per dichiarare un dizionario\n",
    "- le coppie (chiave, valore) possono essere tante a piacere\n",
    "- una chiave non può essere ripetuta: per esempio, ciascun immobile avrà un solo prezzo, una sola metratura, ...\n",
    "- i valori possono essere qualsiasi cosa (inclusi liste e altri dizionari).\n",
    "\n",
    "Tornando al nostro esempio, possiamo gestire il database di utenti come una lista di dizionari."
   ]
  },
  {
   "cell_type": "code",
   "execution_count": 3,
   "metadata": {},
   "outputs": [],
   "source": [
    "estates = []\n",
    "\n",
    "e1 = {'coordinates':[12.3456, -56.7890], 'extension':2000,  'has_land':False, 'price':10}\n",
    "estates += [e1]\n",
    "\n",
    "e2 = {'coordinates':[-8.9101,  60.1234], 'extension':12000, 'has_land':False, 'price':125}\n",
    "estates += [e2]\n",
    "\n",
    "e3 = {'coordinates':[45.6789,  10.3456], 'extension':100,   'has_land':True,  'price':350}\n",
    "estates += [e3]"
   ]
  },
  {
   "cell_type": "code",
   "execution_count": 4,
   "metadata": {},
   "outputs": [
    {
     "data": {
      "text/plain": [
       "{'coordinates': [12.3456, -56.789],\n",
       " 'extension': 2000,\n",
       " 'has_land': False,\n",
       " 'price': 10}"
      ]
     },
     "execution_count": 4,
     "metadata": {},
     "output_type": "execute_result"
    }
   ],
   "source": [
    "e1"
   ]
  },
  {
   "cell_type": "markdown",
   "metadata": {},
   "source": [
    "Accesso\n",
    "===\n",
    "Adesso possiamo accedere alle informazioni degli immobili in modo più compatto e leggibile, utilizzando una chiave per ottenere il valore corrispondente."
   ]
  },
  {
   "cell_type": "code",
   "execution_count": 5,
   "metadata": {},
   "outputs": [
    {
     "data": {
      "text/plain": [
       "10"
      ]
     },
     "execution_count": 5,
     "metadata": {},
     "output_type": "execute_result"
    }
   ],
   "source": [
    "e1['price']"
   ]
  },
  {
   "cell_type": "code",
   "execution_count": 6,
   "metadata": {},
   "outputs": [
    {
     "name": "stdout",
     "output_type": "stream",
     "text": [
      "\n",
      "Immobile #0\n",
      "Coordinate: [12.3456, -56.789]\n",
      "Estensione (mq): 2000\n",
      "Terreno annesso?: No\n",
      "Prezzo: 10K Euro\n",
      "\n",
      "Immobile #1\n",
      "Coordinate: [-8.9101, 60.1234]\n",
      "Estensione (mq): 12000\n",
      "Terreno annesso?: No\n",
      "Prezzo: 125K Euro\n",
      "\n",
      "Immobile #2\n",
      "Coordinate: [45.6789, 10.3456]\n",
      "Estensione (mq): 100\n",
      "Terreno annesso?: Sì\n",
      "Prezzo: 350K Euro\n"
     ]
    }
   ],
   "source": [
    "for i, e in enumerate(estates):\n",
    "    print('\\nImmobile #{}'.format(i))\n",
    "    print('Coordinate: {}'.format(e['coordinates']))\n",
    "    print('Estensione (mq): {}'.format(e['extension']))\n",
    "    print('Terreno annesso?: {}'.format('Sì' if e['has_land'] else 'No'))\n",
    "    print('Prezzo: {}K Euro'.format(e['price']))"
   ]
  },
  {
   "cell_type": "markdown",
   "metadata": {},
   "source": [
    "Questo tipo di accesso è utile in molti contesti. Ecco un esempio con comprensione di lista."
   ]
  },
  {
   "cell_type": "code",
   "execution_count": 7,
   "metadata": {},
   "outputs": [
    {
     "data": {
      "text/plain": [
       "[10, 125, 350]"
      ]
     },
     "execution_count": 7,
     "metadata": {},
     "output_type": "execute_result"
    }
   ],
   "source": [
    "[h['price'] for h in estates]"
   ]
  },
  {
   "cell_type": "markdown",
   "metadata": {},
   "source": [
    "Operazioni su dizionario\n",
    "===\n",
    "Come abbiamo fatto per le liste, vediamo le operazioni di base che si possono fare su un dizionario.\n",
    "\n",
    "Cambiamo contesto applicativo. Un'agenzia immobiliare affitta appartamenti in una località marittima. Ciascun appartamento ha un nome univoco e un prezzo settimanale, e l'agenzia desidera costruire un database che tenga traccia di queste due informazioni.\n",
    "\n",
    "Di quanti dizionari ho bisogno?"
   ]
  },
  {
   "cell_type": "code",
   "execution_count": 18,
   "metadata": {},
   "outputs": [
    {
     "data": {
      "text/plain": [
       "{'Villa Bianca': 500, 'Il pino marittimo': 250, 'La stamberga': 100}"
      ]
     },
     "execution_count": 18,
     "metadata": {},
     "output_type": "execute_result"
    }
   ],
   "source": [
    "prices = {}#database: dizionario vuoto\n",
    "\n",
    "prices['Villa Bianca'] = 500#inserimento\n",
    "prices['Il pino marittimo'] = 250\n",
    "prices['La stamberga'] = 100\n",
    "\n",
    "prices"
   ]
  },
  {
   "cell_type": "code",
   "execution_count": 9,
   "metadata": {},
   "outputs": [
    {
     "name": "stdout",
     "output_type": "stream",
     "text": [
      "Il prezzo settimanale di Villa Bianca è 500 Euro\n"
     ]
    }
   ],
   "source": [
    "print('Il prezzo settimanale di Villa Bianca è {} Euro'.format(prices['Villa Bianca']))"
   ]
  },
  {
   "cell_type": "markdown",
   "metadata": {},
   "source": [
    "*La stamberga* non si riesce ad affittare..."
   ]
  },
  {
   "cell_type": "code",
   "execution_count": 19,
   "metadata": {},
   "outputs": [
    {
     "name": "stdout",
     "output_type": "stream",
     "text": [
      "Offerta! Il prezzo settimanale di La stamberga è 80 Euro\n"
     ]
    }
   ],
   "source": [
    "prices['La stamberga'] = 80#modifica del valore di una chiave esistente\n",
    "\n",
    "print('Offerta! Il prezzo settimanale di La stamberga è {} Euro'.format(prices['La stamberga']))"
   ]
  },
  {
   "cell_type": "markdown",
   "metadata": {},
   "source": [
    "Ciclo sugli elementi di un dizionario\n",
    "===\n",
    "Attraverso la funzione *items* si accede alle coppie (chiave, valore) di un dizionario."
   ]
  },
  {
   "cell_type": "code",
   "execution_count": 20,
   "metadata": {},
   "outputs": [
    {
     "name": "stdout",
     "output_type": "stream",
     "text": [
      "Il prezzo settimanale di Villa Bianca è 500 Euro\n",
      "Il prezzo settimanale di Il pino marittimo è 250 Euro\n",
      "Il prezzo settimanale di La stamberga è 80 Euro\n"
     ]
    }
   ],
   "source": [
    "for apt, price in prices.items():#chiave/valore\n",
    "    print('Il prezzo settimanale di {} è {} Euro'.format(apt, price))"
   ]
  },
  {
   "cell_type": "markdown",
   "metadata": {},
   "source": [
    "Si può accedere separatamente sia alle chiavi che ai valori."
   ]
  },
  {
   "cell_type": "code",
   "execution_count": 21,
   "metadata": {},
   "outputs": [
    {
     "name": "stdout",
     "output_type": "stream",
     "text": [
      "Nome appartamento: Villa Bianca\n",
      "Nome appartamento: Il pino marittimo\n",
      "Nome appartamento: La stamberga\n"
     ]
    }
   ],
   "source": [
    "for apt in prices.keys():#chiavi\n",
    "    print('Nome appartamento:', apt)"
   ]
  },
  {
   "cell_type": "code",
   "execution_count": 22,
   "metadata": {},
   "outputs": [
    {
     "name": "stdout",
     "output_type": "stream",
     "text": [
      "Prezzo settimanale: 500\n",
      "Prezzo settimanale: 250\n",
      "Prezzo settimanale: 80\n"
     ]
    }
   ],
   "source": [
    "for price in prices.values():#valori\n",
    "    print('Prezzo settimanale:', price)"
   ]
  },
  {
   "cell_type": "markdown",
   "metadata": {},
   "source": [
    "Per convenzione, l'ordinamento è (alfabetico) per chiave. E' comunque [possibile](https://stackoverflow.com/questions/613183/how-do-i-sort-a-dictionary-by-value) ordinare per valore."
   ]
  },
  {
   "cell_type": "code",
   "execution_count": 23,
   "metadata": {},
   "outputs": [
    {
     "data": {
      "text/plain": [
       "['Il pino marittimo', 'La stamberga', 'Villa Bianca']"
      ]
     },
     "execution_count": 23,
     "metadata": {},
     "output_type": "execute_result"
    }
   ],
   "source": [
    "sorted(prices)"
   ]
  },
  {
   "cell_type": "code",
   "execution_count": 24,
   "metadata": {},
   "outputs": [
    {
     "name": "stdout",
     "output_type": "stream",
     "text": [
      "Il prezzo di Il pino marittimo è 250 Euro\n",
      "Il prezzo di La stamberga è 80 Euro\n",
      "Il prezzo di Villa Bianca è 500 Euro\n"
     ]
    }
   ],
   "source": [
    "for apt in sorted(prices):\n",
    "    print('Il prezzo di {} è {} Euro'.format(apt, prices[apt]))"
   ]
  },
  {
   "cell_type": "markdown",
   "metadata": {},
   "source": [
    "*Esercizio 1*\n",
    "===\n",
    "Su https://en.wikipedia.org/wiki/List_of_mountains_by_elevation trovate l'elenco delle montagne più alte del mondo.\n",
    "\n",
    "- costruire una struttura dati *heights* che, per ognuna delle 5 montagne più alte, permetta di accedere all'altezza a partire dal nome\n",
    "- stampare le montagne in ordine alfabetico, riportandone nome, altezza e indice nell'ordinamento alfabetico\n",
    "        La montagna numero 1 è Kangchenjunga ed è alta 8,586 metri\n",
    "        La montagna numero 2 è K2 ed è alta 8,611 metri\n",
    "        ...\n",
    "        La montagna numero 5 è Mount Everest ed è alta 8,858 metri"
   ]
  },
  {
   "cell_type": "code",
   "execution_count": 16,
   "metadata": {},
   "outputs": [],
   "source": [
    "#FILL ME"
   ]
  },
  {
   "cell_type": "markdown",
   "metadata": {},
   "source": [
    "*Esercizio 2*\n",
    "===\n",
    "Utilizzando il link dell'esercizio precedente,\n",
    "\n",
    "- costruire un database *mountains* con le prime 5 montagne più alte\n",
    "- ogni record deve contenere nome, altezza e stato in cui si trova la montagna\n",
    "- stampare, in ordine di inserimento, tutte le informazioni di ogni montagna e l'indice di inserimento\n",
    "        La montagna numero 1 è Mount Everest, è alta 8858 metri e si trova in Nepal\n",
    "- costruire due liste *mountain_names* e *mountain_heights*, rispettivamente con nomi e altezze delle montagne inserite nel database\n",
    "- utilizzando le due liste, costruire lo stesso dizionario dell'esercizio precedente (l'ordine delle coppie non è importante)"
   ]
  },
  {
   "cell_type": "code",
   "execution_count": 17,
   "metadata": {},
   "outputs": [],
   "source": [
    "#FILL ME"
   ]
  },
  {
   "cell_type": "markdown",
   "metadata": {},
   "source": [
    "*Esercizio 3*\n",
    "===\n",
    "Seguendo [quanto fatto in precedenza](#Dizionari:-definizione-e-sintassi), costruire un database di immobili con dati e proprietà a piacere.\n",
    "\n",
    "Definire una funzione che prenda in ingresso un singolo immobile e ne stampi le informazioni, come [visto qui sopra](#Accesso).\n",
    "\n",
    "Iterare sugli immobili attraverso una enumerazione. Per ognuno, stampare\n",
    "- l'indice di inserimento nel database\n",
    "- le sue informazioni, usando la funzione appena definita."
   ]
  },
  {
   "cell_type": "markdown",
   "metadata": {},
   "source": [
    "<script>\n",
    "  $(document).ready(function(){\n",
    "    $('div.back-to-top').hide();\n",
    "    $('nav#menubar').hide();\n",
    "    $('div.prompt').hide();\n",
    "    $('.hidden-print').hide();\n",
    "  });\n",
    "</script>\n",
    "\n",
    "<footer id=\"attribution\" style=\"float:right; color:#999; background:#fff;\">\n",
    "Created with Jupyter.\n",
    "</footer>"
   ]
  }
 ],
 "metadata": {
  "kernelspec": {
   "display_name": "Python 3",
   "language": "python",
   "name": "python3"
  },
  "language_info": {
   "codemirror_mode": {
    "name": "ipython",
    "version": 3
   },
   "file_extension": ".py",
   "mimetype": "text/x-python",
   "name": "python",
   "nbconvert_exporter": "python",
   "pygments_lexer": "ipython3",
   "version": "3.8.5"
  }
 },
 "nbformat": 4,
 "nbformat_minor": 2
}
