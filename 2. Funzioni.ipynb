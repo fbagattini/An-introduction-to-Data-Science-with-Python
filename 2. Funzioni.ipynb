{
 "cells": [
  {
   "cell_type": "markdown",
   "metadata": {},
   "source": [
    "*Contenuti*\n",
    "===\n",
    "- [Funzioni](#Funzioni)\n",
    "    - [Sintassi](#Sintassi)\n",
    "    - [Ordine delle chiamate](#Ordine-delle-chiamate)\n",
    "    - [Valore di ritorno](#Valore-di-ritorno)"
   ]
  },
  {
   "cell_type": "markdown",
   "metadata": {},
   "source": [
    "Funzioni\n",
    "===\n",
    "Spesso, quando si scrive codice, una certa sequenza di azioni viene utilizzata molte volte con piccole differenze di contesto.\n",
    "\n",
    "Una *funzione* è una sequenza di azioni a cui si dà un nome, e che si può invocare all'occorrenza. Abbiamo già visto ed usato alcune funzioni, sia generiche (come print) che definite sul tipo stringa (upper, lower, replace, format)."
   ]
  },
  {
   "cell_type": "markdown",
   "metadata": {},
   "source": [
    "Sintassi\n",
    "---"
   ]
  },
  {
   "cell_type": "code",
   "execution_count": null,
   "metadata": {},
   "outputs": [],
   "source": [
    "def function_name(argument_1, argument_2):\n",
    "    #fai qualcosa, utilizzando argument_1 e argument_2\n",
    "    #volendo, restituisci un valore\n",
    "    \n",
    "function_name(a, b)#chiamata"
   ]
  },
  {
   "cell_type": "markdown",
   "metadata": {},
   "source": [
    "Il codice qui sopra è un esempio generale di *dichiarazione* di funzione.\n",
    "\n",
    "- **def** è una keyword del linguaggio, ne vedremo altre\n",
    "- *function_name* è il nome della funzione, da usare al momento della chiamata\n",
    "- *argument_1* e *argument_2* sono detti *argomenti*; sono ordinati e possono essere tanti a piacere"
   ]
  },
  {
   "cell_type": "markdown",
   "metadata": {},
   "source": [
    "Ordine delle chiamate\n",
    "---\n",
    "\n",
    "Una funzione può chiamarne un'altra: è così che funzionano tutti i programmi complessi. L'ordine delle chiamate durante l'esecuzione è salvato nella [*stack trace*](https://en.wikipedia.org/wiki/Stack_trace)."
   ]
  },
  {
   "cell_type": "code",
   "execution_count": 2,
   "metadata": {},
   "outputs": [
    {
     "name": "stdout",
     "output_type": "stream",
     "text": [
      "fun_1: sto chiamando fun_2\n",
      "fun_2: ciao!\n"
     ]
    }
   ],
   "source": [
    "def fun_1(arg):\n",
    "    print('fun_1: sto chiamando fun_2')\n",
    "    fun_2(arg)\n",
    "\n",
    "def fun_2(arg):\n",
    "    print('fun_2:', arg)\n",
    "\n",
    "fun_1('ciao!')"
   ]
  },
  {
   "cell_type": "markdown",
   "metadata": {},
   "source": [
    "Valore di ritorno\n",
    "---\n",
    "Oltre ad eseguire delle azioni, una funzione può restituire uno o più valori attraverso la keyword *return*."
   ]
  },
  {
   "cell_type": "code",
   "execution_count": 3,
   "metadata": {},
   "outputs": [],
   "source": [
    "def product(a, b):\n",
    "    print('Eseguo e restituisco il prodotto di {} e {}.'.format(a, b))\n",
    "    c = a*b\n",
    "    return c#valore di ritorno"
   ]
  },
  {
   "cell_type": "markdown",
   "metadata": {},
   "source": [
    "Come per le variabili, una funzione dichiarata in una cella può essere chiamata anche in qualsiasi altra cella del notebook."
   ]
  },
  {
   "cell_type": "code",
   "execution_count": 4,
   "metadata": {},
   "outputs": [
    {
     "name": "stdout",
     "output_type": "stream",
     "text": [
      "Eseguo e restituisco il prodotto di 10 e 5.\n"
     ]
    },
    {
     "data": {
      "text/plain": [
       "50"
      ]
     },
     "execution_count": 4,
     "metadata": {},
     "output_type": "execute_result"
    }
   ],
   "source": [
    "product(10, 5)"
   ]
  },
  {
   "cell_type": "markdown",
   "metadata": {},
   "source": [
    "Notare la doppia stampa qui sopra: una è eseguita dal print dentro il corpo della funzione, l'altra è il valore restituito.\n",
    "\n",
    "Quest'ultimo può essere assegnato ad una variabile."
   ]
  },
  {
   "cell_type": "code",
   "execution_count": 5,
   "metadata": {},
   "outputs": [
    {
     "name": "stdout",
     "output_type": "stream",
     "text": [
      "Eseguo e restituisco il prodotto di 20 e 50.\n"
     ]
    },
    {
     "data": {
      "text/plain": [
       "1000"
      ]
     },
     "execution_count": 5,
     "metadata": {},
     "output_type": "execute_result"
    }
   ],
   "source": [
    "res = product(20, 50)\n",
    "\n",
    "res"
   ]
  },
  {
   "cell_type": "markdown",
   "metadata": {},
   "source": [
    "<script>\n",
    "  $(document).ready(function(){\n",
    "    $('div.back-to-top').hide();\n",
    "    $('nav#menubar').hide();\n",
    "    $('div.prompt').hide();\n",
    "    $('.hidden-print').hide();\n",
    "  });\n",
    "</script>\n",
    "\n",
    "<footer id=\"attribution\" style=\"float:right; color:#999; background:#fff;\">\n",
    "Created with Jupyter.\n",
    "</footer>"
   ]
  }
 ],
 "metadata": {
  "kernelspec": {
   "display_name": "Python 3",
   "language": "python",
   "name": "python3"
  },
  "language_info": {
   "codemirror_mode": {
    "name": "ipython",
    "version": 3
   },
   "file_extension": ".py",
   "mimetype": "text/x-python",
   "name": "python",
   "nbconvert_exporter": "python",
   "pygments_lexer": "ipython3",
   "version": "3.8.5"
  }
 },
 "nbformat": 4,
 "nbformat_minor": 2
}
