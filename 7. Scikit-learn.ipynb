{
 "cells": [
  {
   "cell_type": "markdown",
   "metadata": {},
   "source": [
    "*Contenuti*\n",
    "===\n",
    "- [Scikit-learn: machine learning con Python](#Scikit-learn:-machine-learning-con-Python)\n",
    "    - [Il dataset *iris*](#Il-dataset-iris)\n",
    "        - [*Esercizio 1*](#Esercizio-1)\n",
    "    - [Feature scaling](#Feature-scaling)\n",
    "        - [*Esercizio 2*](#Esercizio-2)\n",
    "    - [Insiemi di addestramento e test](#Insiemi-di-addestramento-e-test) \n",
    "    - [Un modello per la classificazione](#Un-modello-per-la-classificazione)\n",
    "        - [Addestramento](#Addestramento)\n",
    "        - [Predizione](#Predizione)\n",
    "        - [Valutazione](#Valutazione)\n",
    "    - [Dai dati alla predizione](#Dai-dati-alla-predizione)\n",
    "        - [*Esercizio 3*](#Esercizio-3)        \n",
    "    - [Validazione](#Validazione)\n",
    "    - [Alberi di decisione](#Alberi-di-decisione)\n",
    "        - [*Esercizio 4*](#Esercizio-4)"
   ]
  },
  {
   "cell_type": "markdown",
   "metadata": {},
   "source": [
    "Scikit-learn: machine learning con Python\n",
    "==="
   ]
  },
  {
   "cell_type": "markdown",
   "metadata": {},
   "source": [
    "*Scikit-learn* (o *sklearn*) è uno dei principali strumenti Python per il machine learning, ed è una delle librerie open-source di data science più usate al mondo.\n",
    "\n",
    "Sul [sito](http://scikit-learn.org/stable/) si trovano svariati modelli di machine learning, insieme a strumenti di preprocessing, analisi e visualizzazione dei dati. \n",
    "\n",
    "Ciascuna implementazione fa riferimento ad una [guida utente](https://scikit-learn.org/stable/user_guide.html#user-guide) molto dettagliata, che associa al codice la teoria necessaria per capirlo e usarlo.\n",
    "\n",
    "Teoria e codice sono spesso supportati da [esempi pratici](http://scikit-learn.org/stable/auto_examples/)."
   ]
  },
  {
   "cell_type": "markdown",
   "metadata": {},
   "source": [
    "Il dataset *iris*\n",
    "---\n",
    "\n",
    "Iniziamo sfruttando i *toy dataset* messi a disposizione dalla libreria. Il modulo *datasets* ne contiene diversi. Se, dopo averlo importato, scriviamo\n",
    "\n",
    "                datasets.\n",
    "                \n",
    "e premiamo il tasto di autocomplemento, possiamo dare un'occhiata a cosa offre."
   ]
  },
  {
   "cell_type": "code",
   "execution_count": 1,
   "metadata": {},
   "outputs": [],
   "source": [
    "from sklearn import datasets\n",
    "\n",
    "iris = datasets.load_iris()"
   ]
  },
  {
   "cell_type": "markdown",
   "metadata": {},
   "source": [
    "Attraverso la funzione *load_iris* abbiamo caricato dentro una variabile un intero dataset. L'oggetto così creato sarà simile a un dizionario (Lezione 5), cioè a un insieme di coppie chiave/valore.\n",
    "\n",
    "Dati ed etichette sono associati rispettivamente alle chiavi *data* e *target*."
   ]
  },
  {
   "cell_type": "code",
   "execution_count": 2,
   "metadata": {},
   "outputs": [
    {
     "name": "stdout",
     "output_type": "stream",
     "text": [
      "(150, 4) (150,)\n"
     ]
    }
   ],
   "source": [
    "X = iris['data']\n",
    "y = iris['target']\n",
    "\n",
    "print(X.shape, y.shape)"
   ]
  },
  {
   "cell_type": "markdown",
   "metadata": {},
   "source": [
    "Dentro al dizionario ci sono altri oggetti utili. Alla chiave DESCR è associata una descrizione del dataset."
   ]
  },
  {
   "cell_type": "code",
   "execution_count": 3,
   "metadata": {},
   "outputs": [
    {
     "name": "stdout",
     "output_type": "stream",
     "text": [
      ".. _iris_dataset:\n",
      "\n",
      "Iris plants dataset\n",
      "--------------------\n",
      "\n",
      "**Data Set Characteristics:**\n",
      "\n",
      "    :Number of Instances: 150 (50 in each of three classes)\n",
      "    :Number of Attributes: 4 numeric, predictive attributes and the class\n",
      "    :Attribute Information:\n",
      "        - sepal length in cm\n",
      "        - sepal width in cm\n",
      "        - petal length in cm\n",
      "        - petal width in cm\n",
      "        - class:\n",
      "                - Iris-Setosa\n",
      "                - Iris-Versicolour\n",
      "                - Iris-Virginica\n",
      "                \n",
      "    :Summary Statistics:\n",
      "\n",
      "    ============== ==== ==== ======= ===== ====================\n",
      "                    Min  Max   Mean    SD   Class Correlation\n",
      "    ============== ==== ==== ======= ===== ====================\n",
      "    sepal length:   4.3  7.9   5.84   0.83    0.7826\n",
      "    sepal width:    2.0  4.4   3.05   0.43   -0.4194\n",
      "    petal length:   1.0  6.9   3.76   1.76    0.9490  (high!)\n",
      "    petal width:    0.1  2.5   1.20   0.76    0.9565  (high!)\n",
      "    ============== ==== ==== ======= ===== ====================\n",
      "\n",
      "    :Missing Attribute Values: None\n",
      "    :Class Distribution: 33.3% for each of 3 classes.\n",
      "    :Creator: R.A. Fisher\n",
      "    :Donor: Michael Marshall (MARSHALL%PLU@io.arc.nasa.gov)\n",
      "    :Date: July, 1988\n",
      "\n",
      "The famous Iris database, first used by Sir R.A. Fisher. The dataset is taken\n",
      "from Fisher's paper. Note that it's the same as in R, but not as in the UCI\n",
      "Machine Learning Repository, which has two wrong data points.\n",
      "\n",
      "This is perhaps the best known database to be found in the\n",
      "pattern recognition literature.  Fisher's paper is a classic in the field and\n",
      "is referenced frequently to this day.  (See Duda & Hart, for example.)  The\n",
      "data set contains 3 classes of 50 instances each, where each class refers to a\n",
      "type of iris plant.  One class is linearly separable from the other 2; the\n",
      "latter are NOT linearly separable from each other.\n",
      "\n",
      ".. topic:: References\n",
      "\n",
      "   - Fisher, R.A. \"The use of multiple measurements in taxonomic problems\"\n",
      "     Annual Eugenics, 7, Part II, 179-188 (1936); also in \"Contributions to\n",
      "     Mathematical Statistics\" (John Wiley, NY, 1950).\n",
      "   - Duda, R.O., & Hart, P.E. (1973) Pattern Classification and Scene Analysis.\n",
      "     (Q327.D83) John Wiley & Sons.  ISBN 0-471-22361-1.  See page 218.\n",
      "   - Dasarathy, B.V. (1980) \"Nosing Around the Neighborhood: A New System\n",
      "     Structure and Classification Rule for Recognition in Partially Exposed\n",
      "     Environments\".  IEEE Transactions on Pattern Analysis and Machine\n",
      "     Intelligence, Vol. PAMI-2, No. 1, 67-71.\n",
      "   - Gates, G.W. (1972) \"The Reduced Nearest Neighbor Rule\".  IEEE Transactions\n",
      "     on Information Theory, May 1972, 431-433.\n",
      "   - See also: 1988 MLC Proceedings, 54-64.  Cheeseman et al\"s AUTOCLASS II\n",
      "     conceptual clustering system finds 3 classes in the data.\n",
      "   - Many, many more ...\n"
     ]
    }
   ],
   "source": [
    "print(iris['DESCR'])"
   ]
  },
  {
   "cell_type": "markdown",
   "metadata": {},
   "source": [
    "Vediamo come sono fatti i dati, stampando i primi dieci esempi etichettati."
   ]
  },
  {
   "cell_type": "code",
   "execution_count": 4,
   "metadata": {},
   "outputs": [
    {
     "name": "stdout",
     "output_type": "stream",
     "text": [
      "feature: [5.1 3.5 1.4 0.2] label: 0\n",
      "feature: [4.9 3.  1.4 0.2] label: 0\n",
      "feature: [4.7 3.2 1.3 0.2] label: 0\n",
      "feature: [4.6 3.1 1.5 0.2] label: 0\n",
      "feature: [5.  3.6 1.4 0.2] label: 0\n",
      "feature: [5.4 3.9 1.7 0.4] label: 0\n",
      "feature: [4.6 3.4 1.4 0.3] label: 0\n",
      "feature: [5.  3.4 1.5 0.2] label: 0\n",
      "feature: [4.4 2.9 1.4 0.2] label: 0\n",
      "feature: [4.9 3.1 1.5 0.1] label: 0\n"
     ]
    }
   ],
   "source": [
    "for i, x in enumerate(X[:10]):\n",
    "    print('feature: {} label: {}'.format(x, y[i]))"
   ]
  },
  {
   "cell_type": "markdown",
   "metadata": {},
   "source": [
    "### *Esercizio 1*\n",
    "Esplorare il contenuto di iris e di altri dataset."
   ]
  },
  {
   "cell_type": "markdown",
   "metadata": {},
   "source": [
    "Feature scaling\n",
    "---\n",
    "Come si vede dalla descrizione di iris, le feature hanno ordini di grandezza diversi."
   ]
  },
  {
   "cell_type": "markdown",
   "metadata": {},
   "source": [
    "### *Esercizio 2*\n",
    "Estrarre, per ogni feature del dataset iris, i valori minimo e massimo osservati sul training set (e controllare che siano uguali a quelli della descrizione)."
   ]
  },
  {
   "cell_type": "code",
   "execution_count": 5,
   "metadata": {},
   "outputs": [],
   "source": [
    "import numpy as np\n",
    "\n",
    "#FILL ME"
   ]
  },
  {
   "cell_type": "markdown",
   "metadata": {},
   "source": [
    "Tra gli strumenti di preprocessing di sklearn, troviamo alcune utilità per normalizzare i dati. Usiamo *MinMaxScaler* per scalare tutte le feature tra 0 e 1. "
   ]
  },
  {
   "cell_type": "code",
   "execution_count": 7,
   "metadata": {},
   "outputs": [
    {
     "data": {
      "text/plain": [
       "(0, 1)"
      ]
     },
     "execution_count": 7,
     "metadata": {},
     "output_type": "execute_result"
    }
   ],
   "source": [
    "from sklearn.preprocessing import MinMaxScaler\n",
    "\n",
    "scaler = MinMaxScaler()\n",
    "\n",
    "scaler.feature_range"
   ]
  },
  {
   "cell_type": "code",
   "execution_count": 8,
   "metadata": {},
   "outputs": [
    {
     "name": "stdout",
     "output_type": "stream",
     "text": [
      "[0. 0. 0. 0.]\n",
      "[1. 1. 1. 1.]\n"
     ]
    }
   ],
   "source": [
    "X = scaler.fit_transform(X)\n",
    "\n",
    "print(np.min(X, axis=0))\n",
    "print(np.max(X, axis=0))"
   ]
  },
  {
   "cell_type": "markdown",
   "metadata": {},
   "source": [
    "Insiemi di addestramento e test\n",
    "---\n",
    "Prima di passare all'addestramento, dividiamo i dati in training e test set. "
   ]
  },
  {
   "cell_type": "markdown",
   "metadata": {},
   "source": [
    "Come sono stati ordinati gli esempi del dataset?"
   ]
  },
  {
   "cell_type": "code",
   "execution_count": 9,
   "metadata": {},
   "outputs": [
    {
     "data": {
      "text/plain": [
       "array([0, 0, 0, 0, 0, 0, 0, 0, 0, 0, 0, 0, 0, 0, 0, 0, 0, 0, 0, 0, 0, 0,\n",
       "       0, 0, 0, 0, 0, 0, 0, 0, 0, 0, 0, 0, 0, 0, 0, 0, 0, 0, 0, 0, 0, 0,\n",
       "       0, 0, 0, 0, 0, 0, 1, 1, 1, 1, 1, 1, 1, 1, 1, 1, 1, 1, 1, 1, 1, 1,\n",
       "       1, 1, 1, 1, 1, 1, 1, 1, 1, 1, 1, 1, 1, 1, 1, 1, 1, 1, 1, 1, 1, 1,\n",
       "       1, 1, 1, 1, 1, 1, 1, 1, 1, 1, 1, 1, 2, 2, 2, 2, 2, 2, 2, 2, 2, 2,\n",
       "       2, 2, 2, 2, 2, 2, 2, 2, 2, 2, 2, 2, 2, 2, 2, 2, 2, 2, 2, 2, 2, 2,\n",
       "       2, 2, 2, 2, 2, 2, 2, 2, 2, 2, 2, 2, 2, 2, 2, 2, 2, 2])"
      ]
     },
     "execution_count": 9,
     "metadata": {},
     "output_type": "execute_result"
    }
   ],
   "source": [
    "y"
   ]
  },
  {
   "cell_type": "markdown",
   "metadata": {},
   "source": [
    "Mescoliamo (coerentemente!) i dati con la funzione *shuffle*."
   ]
  },
  {
   "cell_type": "code",
   "execution_count": 10,
   "metadata": {},
   "outputs": [
    {
     "name": "stdout",
     "output_type": "stream",
     "text": [
      "feature: [0.41666667 0.33333333 0.69491525 0.95833333] label: 2\n",
      "feature: [0.47222222 0.08333333 0.50847458 0.375     ] label: 1\n",
      "feature: [0.33333333 0.91666667 0.06779661 0.04166667] label: 0\n",
      "feature: [0.83333333 0.375      0.89830508 0.70833333] label: 2\n",
      "feature: [0.19444444 0.58333333 0.08474576 0.04166667] label: 0\n",
      "feature: [0.55555556 0.54166667 0.84745763 1.        ] label: 2\n",
      "feature: [0.19444444 0.625      0.05084746 0.08333333] label: 0\n",
      "feature: [0.66666667 0.45833333 0.62711864 0.58333333] label: 1\n",
      "feature: [0.69444444 0.33333333 0.6440678  0.54166667] label: 1\n",
      "feature: [0.5        0.33333333 0.50847458 0.5       ] label: 1\n"
     ]
    }
   ],
   "source": [
    "from sklearn.utils import shuffle#importo singola funzione dal modulo\n",
    "\n",
    "X, y = shuffle(X, y, random_state=0)#controllo del generatore random\n",
    "\n",
    "for i, x in enumerate(X[:10]):\n",
    "    print('feature: {} label: {}'.format(x, y[i]))"
   ]
  },
  {
   "cell_type": "markdown",
   "metadata": {},
   "source": [
    "Prendiamo i primi due terzi dei dati mescolati (100) per l'addestramento e i restanti (50) per il test."
   ]
  },
  {
   "cell_type": "code",
   "execution_count": 11,
   "metadata": {},
   "outputs": [
    {
     "name": "stdout",
     "output_type": "stream",
     "text": [
      "(100, 4) (50, 4)\n"
     ]
    }
   ],
   "source": [
    "X_train = X[:100]#i primi 100 esempi (righe)\n",
    "X_test = X[100:]#gli altri\n",
    "\n",
    "print(X_train.shape, X_test.shape)"
   ]
  },
  {
   "cell_type": "markdown",
   "metadata": {},
   "source": [
    "Stesso discorso per le etichette."
   ]
  },
  {
   "cell_type": "code",
   "execution_count": 12,
   "metadata": {},
   "outputs": [
    {
     "name": "stdout",
     "output_type": "stream",
     "text": [
      "(100,) (50,)\n"
     ]
    }
   ],
   "source": [
    "y_train = y[:100]\n",
    "y_test = y[100:]\n",
    "\n",
    "print(y_train.shape, y_test.shape)"
   ]
  },
  {
   "cell_type": "markdown",
   "metadata": {},
   "source": [
    "Un modello per la classificazione\n",
    "---\n",
    "Siamo pronti per l'addestramento. Costruiamo un modello $k$*-nearest neighbors* (KNN) per la classificazione."
   ]
  },
  {
   "cell_type": "code",
   "execution_count": 2,
   "metadata": {},
   "outputs": [
    {
     "name": "stdout",
     "output_type": "stream",
     "text": [
      "KNeighborsClassifier()\n"
     ]
    }
   ],
   "source": [
    "from sklearn.neighbors import KNeighborsClassifier as KNN\n",
    "\n",
    "model = KNN()"
   ]
  },
  {
   "cell_type": "markdown",
   "metadata": {},
   "source": [
    "Abbiamo invocato una funzione speciale, chiamata *costrutture*, che inizializza (in questo caso senza parametri) un classificatore KNN. Possiamo vedere\n",
    "\n",
    "- dalla [documentazione](http://scikit-learn.org/stable/modules/generated/sklearn.neighbors.KNeighborsClassifier.html)\n",
    "- oppure posizionando il puntatore del mouse dentro le parentesi del costruttore e premendo Shift e due volte Tab,\n",
    "\n",
    "che questa funzione prende in ingresso diversi parametri, nessuno dei quali obbligatorio. Per esempio, il numero di vicini $k$ (chiamato *n_neighbors*) vale di default 5.\n",
    "\n",
    "Ciascuna proprietà può essere indicata in fase di costruzione."
   ]
  },
  {
   "cell_type": "code",
   "execution_count": 14,
   "metadata": {},
   "outputs": [
    {
     "data": {
      "text/plain": [
       "5"
      ]
     },
     "execution_count": 14,
     "metadata": {},
     "output_type": "execute_result"
    }
   ],
   "source": [
    "model.n_neighbors"
   ]
  },
  {
   "cell_type": "code",
   "execution_count": 15,
   "metadata": {},
   "outputs": [
    {
     "data": {
      "text/plain": [
       "3"
      ]
     },
     "execution_count": 15,
     "metadata": {},
     "output_type": "execute_result"
    }
   ],
   "source": [
    "model = KNN(n_neighbors=3)\n",
    "\n",
    "model.n_neighbors"
   ]
  },
  {
   "cell_type": "markdown",
   "metadata": {},
   "source": [
    "### Addestramento\n",
    "\n",
    "Tramite la funzione *fit* addestriamo il modello sui dati di apprendimento."
   ]
  },
  {
   "cell_type": "code",
   "execution_count": 17,
   "metadata": {},
   "outputs": [
    {
     "data": {
      "text/plain": [
       "KNeighborsClassifier(algorithm='auto', leaf_size=30, metric='minkowski',\n",
       "           metric_params=None, n_jobs=None, n_neighbors=3, p=2,\n",
       "           weights='uniform')"
      ]
     },
     "execution_count": 17,
     "metadata": {},
     "output_type": "execute_result"
    }
   ],
   "source": [
    "model.fit(X_train, y_train)"
   ]
  },
  {
   "cell_type": "markdown",
   "metadata": {},
   "source": [
    "### Predizione\n",
    "\n",
    "Una volta addestrato, usiamo il modello per predire la classe degli esempi del test set."
   ]
  },
  {
   "cell_type": "code",
   "execution_count": 18,
   "metadata": {},
   "outputs": [
    {
     "data": {
      "text/plain": [
       "(50,)"
      ]
     },
     "execution_count": 18,
     "metadata": {},
     "output_type": "execute_result"
    }
   ],
   "source": [
    "predictions = model.predict(X_test)\n",
    "\n",
    "predictions.shape"
   ]
  },
  {
   "cell_type": "code",
   "execution_count": 19,
   "metadata": {},
   "outputs": [
    {
     "data": {
      "text/plain": [
       "array([0, 0, 1, 2, 2, 0, 0, 0, 1, 1, 0, 0, 1, 0, 2, 1, 2, 1, 0, 2, 0, 2,\n",
       "       0, 0, 2, 0, 2, 1, 1, 1, 2, 2, 2, 1, 0, 1, 2, 2, 0, 1, 1, 2, 1, 0,\n",
       "       0, 0, 2, 1, 2, 0])"
      ]
     },
     "execution_count": 19,
     "metadata": {},
     "output_type": "execute_result"
    }
   ],
   "source": [
    "predictions"
   ]
  },
  {
   "cell_type": "markdown",
   "metadata": {},
   "source": [
    "### Valutazione\n",
    "\n",
    "Infine, valutiamo le prestazioni del modello addestrato sull'insieme di test, confrontando le predizioni con le (vere) etichette."
   ]
  },
  {
   "cell_type": "code",
   "execution_count": 17,
   "metadata": {},
   "outputs": [
    {
     "name": "stdout",
     "output_type": "stream",
     "text": [
      "Model accuracy on test set: 0.96\n"
     ]
    }
   ],
   "source": [
    "from sklearn.metrics import accuracy_score\n",
    "\n",
    "acc = accuracy_score(y_test, predictions)\n",
    "print('Model accuracy on test set:', acc)"
   ]
  },
  {
   "cell_type": "markdown",
   "metadata": {},
   "source": [
    "Dai dati alla predizione\n",
    "---"
   ]
  },
  {
   "cell_type": "markdown",
   "metadata": {},
   "source": [
    "Ecco tutto quello che ci serve, con sklearn, per costruire un modello di classificazione a partire da un dataset."
   ]
  },
  {
   "cell_type": "code",
   "execution_count": 22,
   "metadata": {},
   "outputs": [
    {
     "name": "stdout",
     "output_type": "stream",
     "text": [
      "Model accuracy on test set: 0.96\n"
     ]
    }
   ],
   "source": [
    "#Importo librerie\n",
    "from sklearn import datasets\n",
    "from sklearn.preprocessing import MinMaxScaler\n",
    "from sklearn.utils import shuffle\n",
    "from sklearn.neighbors import KNeighborsClassifier as KNN\n",
    "from sklearn.metrics import accuracy_score\n",
    "\n",
    "#Carico il dataset\n",
    "iris = datasets.load_iris()\n",
    "X, y = iris['data'], iris['target']\n",
    "\n",
    "#Scalo le feature tra 0 e 1\n",
    "scaler = MinMaxScaler()\n",
    "X = scaler.fit_transform(X)\n",
    "\n",
    "#Separo train e test\n",
    "X, y = shuffle(X, y, random_state=0)\n",
    "X_train, X_test = X[:100], X[100:]\n",
    "y_train, y_test = y[:100], y[100:]\n",
    "\n",
    "#Addestro il modello\n",
    "model = KNN(n_neighbors=3).fit(X_train, y_train)\n",
    "\n",
    "#Ottengo predizioni e valuto l'accuratezza del modello\n",
    "predictions = model.predict(X_test)\n",
    "print('Model accuracy on test set:', accuracy_score(y_test, predictions))"
   ]
  },
  {
   "cell_type": "markdown",
   "metadata": {},
   "source": [
    "### *Esercizio 3*\n",
    "Ripetere quanto visto fin qui lavorando sul dataset *diabetes*. Utilizzare KNN per la regressione (*KNeighborsRegressor*) e il *mean absolute error* come metrica di valutazione."
   ]
  },
  {
   "cell_type": "code",
   "execution_count": 23,
   "metadata": {},
   "outputs": [],
   "source": [
    "from sklearn.neighbors import KNeighborsRegressor as KNN\n",
    "from sklearn.metrics import mean_absolute_error\n",
    "\n",
    "diabetes = datasets.load_diabetes()\n",
    "\n",
    "#FILL ME"
   ]
  },
  {
   "cell_type": "markdown",
   "metadata": {},
   "source": [
    "Validazione\n",
    "---\n",
    "Torniamo alla classificazione di iris e calibriamo il valore di $k$. Abbiamo bisogno di un insieme di validazione."
   ]
  },
  {
   "cell_type": "code",
   "execution_count": 26,
   "metadata": {},
   "outputs": [
    {
     "name": "stdout",
     "output_type": "stream",
     "text": [
      "(75, 4) (25, 4) (50, 4)\n"
     ]
    }
   ],
   "source": [
    "from sklearn.neighbors import KNeighborsClassifier as KNN\n",
    "\n",
    "#Carico il dataset\n",
    "iris = datasets.load_iris()\n",
    "X, y = iris['data'], iris['target']\n",
    "\n",
    "#Scalo le feature tra 0 e 1\n",
    "scaler = MinMaxScaler()\n",
    "X = scaler.fit_transform(X)\n",
    "\n",
    "#Separo train , validation e test\n",
    "X, y = shuffle(X, y, random_state=123)\n",
    "X_tr, X_val, X_test = X[:75], X[75:100], X[100:]\n",
    "y_tr, y_val, y_test = y[:75], y[75:100], y[100:]\n",
    "\n",
    "print(X_tr.shape, X_val.shape, X_test.shape)"
   ]
  },
  {
   "cell_type": "markdown",
   "metadata": {},
   "source": [
    "Ipotizziamo dei valori per $k$ e scegliamo quello che dà un risultato migliore sull'insieme di validazione."
   ]
  },
  {
   "cell_type": "code",
   "execution_count": 27,
   "metadata": {},
   "outputs": [
    {
     "name": "stdout",
     "output_type": "stream",
     "text": [
      "Validation accuracy with k 1: 0.92\n",
      "Validation accuracy with k 2: 0.96\n",
      "Validation accuracy with k 3: 0.92\n",
      "Validation accuracy with k 5: 0.92\n",
      "Validation accuracy with k 10: 0.92\n"
     ]
    }
   ],
   "source": [
    "for k in [1,2,3,5,10]:\n",
    "    model = KNN(n_neighbors=k)\n",
    "    model.fit(X_tr, y_tr)\n",
    "    predictions = model.predict(X_val)\n",
    "    validation_accuracy = accuracy_score(y_val, predictions)\n",
    "    print('Validation accuracy with k {}: {:.2f}'.format(k, validation_accuracy))                  "
   ]
  },
  {
   "cell_type": "markdown",
   "metadata": {},
   "source": [
    "Costruiamo un modello con il miglior $k$ e otteniamo le predizioni sul test."
   ]
  },
  {
   "cell_type": "code",
   "execution_count": 29,
   "metadata": {},
   "outputs": [
    {
     "name": "stdout",
     "output_type": "stream",
     "text": [
      "Test accuracy: 0.96\n"
     ]
    }
   ],
   "source": [
    "best_model = KNN(n_neighbors=2)\n",
    "best_model.fit(X_tr, y_tr)\n",
    "predictions = best_model.predict(X_test)\n",
    "\n",
    "print('Test accuracy:', accuracy_score(y_test, predictions))"
   ]
  },
  {
   "cell_type": "markdown",
   "metadata": {},
   "source": [
    "Alberi di decisione\n",
    "---\n",
    "Costruiamo adesso un *albero di decisione* (DT) ed utilizziamolo per la classificazione."
   ]
  },
  {
   "cell_type": "code",
   "execution_count": 3,
   "metadata": {},
   "outputs": [
    {
     "data": {
      "text/plain": [
       "DecisionTreeClassifier()"
      ]
     },
     "execution_count": 3,
     "metadata": {},
     "output_type": "execute_result"
    }
   ],
   "source": [
    "from sklearn.tree import DecisionTreeClassifier as DT\n",
    "\n",
    "model = DT()"
   ]
  },
  {
   "cell_type": "code",
   "execution_count": 37,
   "metadata": {},
   "outputs": [
    {
     "name": "stdout",
     "output_type": "stream",
     "text": [
      "Accuracy on test set: 1.00\n"
     ]
    }
   ],
   "source": [
    "predictions = model.fit(X_train, y_train).predict(X_test)\n",
    "accuracy = accuracy_score(y_test, predictions)\n",
    "\n",
    "print('Accuracy on test set: {:.2f}'.format(accuracy))"
   ]
  },
  {
   "cell_type": "markdown",
   "metadata": {},
   "source": [
    "Notare come tutti i modelli di sklearn espongano le stesse funzioni."
   ]
  },
  {
   "cell_type": "markdown",
   "metadata": {},
   "source": [
    "### *Esercizio 4*\n",
    "\n",
    "Provare a ripetere quanto visto per KNN, validando la profondità massima (*max_depth*) di un albero di decisione."
   ]
  },
  {
   "cell_type": "markdown",
   "metadata": {},
   "source": [
    "<script>\n",
    "  $(document).ready(function(){\n",
    "    $('div.back-to-top').hide();\n",
    "    $('nav#menubar').hide();\n",
    "    $('div.prompt').hide();\n",
    "    $('.hidden-print').hide();\n",
    "  });\n",
    "</script>\n",
    "\n",
    "<footer id=\"attribution\" style=\"float:right; color:#999; background:#fff;\">\n",
    "Created with Jupyter.\n",
    "</footer>"
   ]
  }
 ],
 "metadata": {
  "kernelspec": {
   "display_name": "Python 3",
   "language": "python",
   "name": "python3"
  },
  "language_info": {
   "codemirror_mode": {
    "name": "ipython",
    "version": 3
   },
   "file_extension": ".py",
   "mimetype": "text/x-python",
   "name": "python",
   "nbconvert_exporter": "python",
   "pygments_lexer": "ipython3",
   "version": "3.8.5"
  }
 },
 "nbformat": 4,
 "nbformat_minor": 2
}
