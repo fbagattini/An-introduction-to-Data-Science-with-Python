{
 "cells": [
  {
   "cell_type": "markdown",
   "metadata": {},
   "source": [
    "*Contenuti*\n",
    "===\n",
    "- [Il costrutto if-elif-else](#Il-costrutto-if-elif-else)\n",
    "    - [*if*](#if)\n",
    "    - [*else*](#else)\n",
    "    - [*elif*](#elif)\n",
    "- [if e comprensioni di liste](#if-e-comprensioni-di-liste)\n",
    "- [Test logici](#Test-logici)\n",
    "- [Operatori booleani](#Operatori-booleani)\n",
    "- [*Esercizio 1*](#Esercizio-1)\n",
    "- [*Esercizio 2*](#Esercizio-2)"
   ]
  },
  {
   "cell_type": "markdown",
   "metadata": {},
   "source": [
    "Il costrutto *if-elif-else*\n",
    "==="
   ]
  },
  {
   "cell_type": "markdown",
   "metadata": {},
   "source": [
    "*if*\n",
    "---\n",
    "Attraverso la keyword *if* si testano una o più condizioni."
   ]
  },
  {
   "cell_type": "code",
   "execution_count": 1,
   "metadata": {},
   "outputs": [
    {
     "name": "stdout",
     "output_type": "stream",
     "text": [
      "8 è un numero pari\n"
     ]
    }
   ],
   "source": [
    "number = 8\n",
    "\n",
    "if number % 2 == 0:#'%' è l'operatore 'modulo', il resto della divisione per un intero\n",
    "    print(number, 'è un numero pari')"
   ]
  },
  {
   "cell_type": "code",
   "execution_count": 2,
   "metadata": {},
   "outputs": [
    {
     "name": "stdout",
     "output_type": "stream",
     "text": [
      "18 è un numero pari ed è multiplo di 3\n"
     ]
    }
   ],
   "source": [
    "number = 18\n",
    "\n",
    "if number % 2 == 0 and number % 3 == 0:#condizione multipla\n",
    "    print(number, 'è un numero pari ed è multiplo di 3')"
   ]
  },
  {
   "cell_type": "markdown",
   "metadata": {},
   "source": [
    "*else*\n",
    "---\n",
    "Attraverso la keyword *else*, possiamo associare un'azione all'evento di fallimento della condizione testata da if."
   ]
  },
  {
   "cell_type": "code",
   "execution_count": 3,
   "metadata": {},
   "outputs": [
    {
     "name": "stdout",
     "output_type": "stream",
     "text": [
      "7 è un numero dispari\n"
     ]
    }
   ],
   "source": [
    "number = 7\n",
    "\n",
    "if number % 2 == 0:\n",
    "    print(number, 'è un numero pari')\n",
    "else:\n",
    "    print(number, 'è un numero dispari')"
   ]
  },
  {
   "cell_type": "markdown",
   "metadata": {},
   "source": [
    "*elif*\n",
    "---\n",
    "Se vogliamo testare una serie di condizioni (piuttosto che una del tipo *A o non A*) utilizziamo *elif*, contrazione di \"else if\"."
   ]
  },
  {
   "cell_type": "code",
   "execution_count": 4,
   "metadata": {},
   "outputs": [
    {
     "name": "stdout",
     "output_type": "stream",
     "text": [
      "ciao è di tipo stringa\n",
      "5 è di tipo intero\n",
      "4.7 non è né stringa, né intero, né lista!\n",
      "mamma è di tipo stringa\n",
      "[4, 5, 6] è di tipo list\n"
     ]
    }
   ],
   "source": [
    "mixed_list = ['ciao', 5, 4.7, 'mamma', [4,5,6]]\n",
    "\n",
    "for element in mixed_list:\n",
    "    \n",
    "    if type(element) == str:\n",
    "        print(element, 'è di tipo stringa')\n",
    "        \n",
    "    elif type(element) == int:\n",
    "        print(element, 'è di tipo intero')\n",
    "        \n",
    "    elif type(element) == list:\n",
    "        print(element, 'è di tipo list')\n",
    "        \n",
    "    else:\n",
    "        print(element, 'non è né stringa, né intero, né lista!')"
   ]
  },
  {
   "cell_type": "markdown",
   "metadata": {},
   "source": [
    "Nel costrutto if-elif-else l'unico else viene eseguito solo quando tutte le altre condizioni (testate da if ed elif) falliscono. Se una della condizioni testate si verifica, quelle successive vengono ignorate."
   ]
  },
  {
   "cell_type": "markdown",
   "metadata": {},
   "source": [
    "if e comprensioni di liste\n",
    "===\n",
    "Il test di una condizione è particolarmente comodo quando si vuole derivare una lista da un'altra attraverso una comprensione."
   ]
  },
  {
   "cell_type": "code",
   "execution_count": 5,
   "metadata": {},
   "outputs": [
    {
     "data": {
      "text/plain": [
       "['ciao', 5, 4.7, 'mamma', [4, 5, 6]]"
      ]
     },
     "execution_count": 5,
     "metadata": {},
     "output_type": "execute_result"
    }
   ],
   "source": [
    "mixed_list = ['ciao', 5, 4.7, 'mamma', [4,5,6]]\n",
    "\n",
    "[x for x in mixed_list]#lista derivata da (e uguale a) una di partenza"
   ]
  },
  {
   "cell_type": "code",
   "execution_count": 6,
   "metadata": {},
   "outputs": [
    {
     "data": {
      "text/plain": [
       "['ciao', 'mamma']"
      ]
     },
     "execution_count": 6,
     "metadata": {},
     "output_type": "execute_result"
    }
   ],
   "source": [
    "strings_only = [x for x in mixed_list if type(x) == str]#solo le stringhe\n",
    "\n",
    "strings_only"
   ]
  },
  {
   "cell_type": "markdown",
   "metadata": {},
   "source": [
    "Test logici\n",
    "===\n",
    "Le condizioni testate da if ed elif possono essere vere (*True*) o false (*False*). In Python, la risposta al test di una condizione è di tipo *booleano*. Vediamo qualche esempio."
   ]
  },
  {
   "cell_type": "code",
   "execution_count": 7,
   "metadata": {},
   "outputs": [
    {
     "data": {
      "text/plain": [
       "False"
      ]
     },
     "execution_count": 7,
     "metadata": {},
     "output_type": "execute_result"
    }
   ],
   "source": [
    "a = 5\n",
    "b = 7\n",
    "\n",
    "a == b#test di uguaglianza"
   ]
  },
  {
   "cell_type": "code",
   "execution_count": 8,
   "metadata": {},
   "outputs": [
    {
     "data": {
      "text/plain": [
       "bool"
      ]
     },
     "execution_count": 8,
     "metadata": {},
     "output_type": "execute_result"
    }
   ],
   "source": [
    "type(a == b)"
   ]
  },
  {
   "cell_type": "code",
   "execution_count": 9,
   "metadata": {},
   "outputs": [
    {
     "data": {
      "text/plain": [
       "bool"
      ]
     },
     "execution_count": 9,
     "metadata": {},
     "output_type": "execute_result"
    }
   ],
   "source": [
    "type(True)"
   ]
  },
  {
   "cell_type": "code",
   "execution_count": 10,
   "metadata": {},
   "outputs": [
    {
     "data": {
      "text/plain": [
       "bool"
      ]
     },
     "execution_count": 10,
     "metadata": {},
     "output_type": "execute_result"
    }
   ],
   "source": [
    "type(False)"
   ]
  },
  {
   "cell_type": "code",
   "execution_count": 11,
   "metadata": {},
   "outputs": [
    {
     "data": {
      "text/plain": [
       "True"
      ]
     },
     "execution_count": 11,
     "metadata": {},
     "output_type": "execute_result"
    }
   ],
   "source": [
    "c = 5\n",
    "\n",
    "a >= c"
   ]
  },
  {
   "cell_type": "code",
   "execution_count": 12,
   "metadata": {},
   "outputs": [
    {
     "data": {
      "text/plain": [
       "False"
      ]
     },
     "execution_count": 12,
     "metadata": {},
     "output_type": "execute_result"
    }
   ],
   "source": [
    "a > c"
   ]
  },
  {
   "cell_type": "code",
   "execution_count": 13,
   "metadata": {},
   "outputs": [
    {
     "data": {
      "text/plain": [
       "True"
      ]
     },
     "execution_count": 13,
     "metadata": {},
     "output_type": "execute_result"
    }
   ],
   "source": [
    "a != b#'diverso da' (test di non uguaglianza)"
   ]
  },
  {
   "cell_type": "code",
   "execution_count": 14,
   "metadata": {},
   "outputs": [
    {
     "data": {
      "text/plain": [
       "True"
      ]
     },
     "execution_count": 14,
     "metadata": {},
     "output_type": "execute_result"
    }
   ],
   "source": [
    "lst = [3,6,2,10]\n",
    "\n",
    "3 in lst#test di inclusione"
   ]
  },
  {
   "cell_type": "code",
   "execution_count": 15,
   "metadata": {},
   "outputs": [
    {
     "data": {
      "text/plain": [
       "False"
      ]
     },
     "execution_count": 15,
     "metadata": {},
     "output_type": "execute_result"
    }
   ],
   "source": [
    "7 in lst"
   ]
  },
  {
   "cell_type": "markdown",
   "metadata": {},
   "source": [
    "Operatori booleani\n",
    "===\n",
    "Le condizioni booleane si possono combinare in vari modi attraverso gli *operatori booleani*.\n",
    "\n",
    "Come abbiamo visto all'[inizio](#if) della lezione, usiamo l'operatore *and* se vogliamo verificare CONTEMPORANEAMENTE due o più condizioni."
   ]
  },
  {
   "cell_type": "code",
   "execution_count": 16,
   "metadata": {},
   "outputs": [
    {
     "data": {
      "text/plain": [
       "True"
      ]
     },
     "execution_count": 16,
     "metadata": {},
     "output_type": "execute_result"
    }
   ],
   "source": [
    "number = 7\n",
    "\n",
    "number > 5 and number < 10"
   ]
  },
  {
   "cell_type": "code",
   "execution_count": 17,
   "metadata": {},
   "outputs": [
    {
     "data": {
      "text/plain": [
       "False"
      ]
     },
     "execution_count": 17,
     "metadata": {},
     "output_type": "execute_result"
    }
   ],
   "source": [
    "number = 4\n",
    "\n",
    "number > 5 and number < 10"
   ]
  },
  {
   "cell_type": "code",
   "execution_count": 18,
   "metadata": {},
   "outputs": [
    {
     "data": {
      "text/plain": [
       "False"
      ]
     },
     "execution_count": 18,
     "metadata": {},
     "output_type": "execute_result"
    }
   ],
   "source": [
    "number = 12\n",
    "\n",
    "number > 5 and number < 10"
   ]
  },
  {
   "cell_type": "markdown",
   "metadata": {},
   "source": [
    "Il test di due condizioni legate da *or*, invece, passerà se ALMENO UNA delle due si verifica."
   ]
  },
  {
   "cell_type": "code",
   "execution_count": 19,
   "metadata": {},
   "outputs": [
    {
     "data": {
      "text/plain": [
       "True"
      ]
     },
     "execution_count": 19,
     "metadata": {},
     "output_type": "execute_result"
    }
   ],
   "source": [
    "number = 4\n",
    "\n",
    "number > 5 or number % 2 == 0"
   ]
  },
  {
   "cell_type": "code",
   "execution_count": 20,
   "metadata": {},
   "outputs": [
    {
     "data": {
      "text/plain": [
       "True"
      ]
     },
     "execution_count": 20,
     "metadata": {},
     "output_type": "execute_result"
    }
   ],
   "source": [
    "number = 33\n",
    "\n",
    "number > 5 or number % 2 == 0"
   ]
  },
  {
   "cell_type": "code",
   "execution_count": 21,
   "metadata": {},
   "outputs": [
    {
     "data": {
      "text/plain": [
       "False"
      ]
     },
     "execution_count": 21,
     "metadata": {},
     "output_type": "execute_result"
    }
   ],
   "source": [
    "number = 3\n",
    "\n",
    "number > 5 or number % 2 == 0"
   ]
  },
  {
   "cell_type": "markdown",
   "metadata": {},
   "source": [
    "Infine, l'operatore *not* nega una condizione."
   ]
  },
  {
   "cell_type": "code",
   "execution_count": 22,
   "metadata": {},
   "outputs": [
    {
     "data": {
      "text/plain": [
       "True"
      ]
     },
     "execution_count": 22,
     "metadata": {},
     "output_type": "execute_result"
    }
   ],
   "source": [
    "number = 10\n",
    "\n",
    "not type(number) == str"
   ]
  },
  {
   "cell_type": "code",
   "execution_count": 23,
   "metadata": {},
   "outputs": [
    {
     "name": "stdout",
     "output_type": "stream",
     "text": [
      "True\n",
      "False\n",
      "True\n",
      "False\n"
     ]
    }
   ],
   "source": [
    "number = 5\n",
    "print(number > 2)\n",
    "print(not number > 2)\n",
    "print(not not number > 2)\n",
    "print(not not not number > 2)\n",
    "#..."
   ]
  },
  {
   "cell_type": "code",
   "execution_count": 24,
   "metadata": {},
   "outputs": [
    {
     "data": {
      "text/plain": [
       "True"
      ]
     },
     "execution_count": 24,
     "metadata": {},
     "output_type": "execute_result"
    }
   ],
   "source": [
    "number = 5\n",
    "number < 10 and not number % 2 == 0"
   ]
  },
  {
   "cell_type": "markdown",
   "metadata": {},
   "source": [
    "*Esercizio 1*\n",
    "===\n",
    "Iterando su una lista di numeri interi,\n",
    "- se il quadrato del numero corrente è multiplo sia di 2 che di 3, stampare\n",
    "        Il quadrato di ... è ..., che è multiplo sia di 2 che di 3\n",
    "- se il quadrato del numero corrente è multiplo di 2 ma non di 3, stampare\n",
    "        Il quadrato di ... è ..., che è multiplo di 2 ma non di 3\n",
    "- se il quadrato del numero corrente è multiplo di 3 ma non di 2, stampare\n",
    "        Il quadrato di ... è ..., che è multiplo di 3 ma non di 2\n",
    "- se il quadrato del numero corrente non è multiplo né di 2 né di 3, stampare\n",
    "        Il quadrato di ... è ..., che non è multiplo né di 2 né di 3"
   ]
  },
  {
   "cell_type": "code",
   "execution_count": 25,
   "metadata": {},
   "outputs": [],
   "source": [
    "lst = [3,6,5,8,12]\n",
    "\n",
    "#FILL ME"
   ]
  },
  {
   "cell_type": "markdown",
   "metadata": {},
   "source": [
    "*Esercizio 2*\n",
    "===\n",
    "A partire dalla lista di numeri dell'esercizio precedente,\n",
    "- derivare la lista dei quadrati che sono multipli di 2\n",
    "- derivare la lista dei quadrati che sono multipli di 3\n",
    "- derivare la lista dei quadrati che sono multipli di 2 e non di 3"
   ]
  },
  {
   "cell_type": "code",
   "execution_count": 26,
   "metadata": {},
   "outputs": [],
   "source": [
    "lst = [3,6,5,8,12]\n",
    "\n",
    "#FILL ME"
   ]
  },
  {
   "cell_type": "markdown",
   "metadata": {},
   "source": [
    "<script>\n",
    "  $(document).ready(function(){\n",
    "    $('div.back-to-top').hide();\n",
    "    $('nav#menubar').hide();\n",
    "    $('div.prompt').hide();\n",
    "    $('.hidden-print').hide();\n",
    "  });\n",
    "</script>\n",
    "\n",
    "<footer id=\"attribution\" style=\"float:right; color:#999; background:#fff;\">\n",
    "Created with Jupyter.\n",
    "</footer>"
   ]
  }
 ],
 "metadata": {
  "kernelspec": {
   "display_name": "Python 3",
   "language": "python",
   "name": "python3"
  },
  "language_info": {
   "codemirror_mode": {
    "name": "ipython",
    "version": 3
   },
   "file_extension": ".py",
   "mimetype": "text/x-python",
   "name": "python",
   "nbconvert_exporter": "python",
   "pygments_lexer": "ipython3",
   "version": "3.8.5"
  }
 },
 "nbformat": 4,
 "nbformat_minor": 2
}
