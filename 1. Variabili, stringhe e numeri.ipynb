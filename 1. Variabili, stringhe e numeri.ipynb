{
 "cells": [
  {
   "cell_type": "markdown",
   "metadata": {},
   "source": [
    "*Contenuti*\n",
    "===\n",
    "- [Info](#Info)\n",
    "- [Hello, world!](#Hello,-world!)\n",
    "- [Commenti](#Commenti)\n",
    "- [Variabili](#Variabili)\n",
    "- [Qualche tipo: stringhe e numeri](#Qualche-tipo:-stringhe-e-numeri)\n",
    "    - [Stringhe](#Stringhe)\n",
    "    - [Numeri: interi e float](#Numeri:-interi-e-float)\n",
    "    - [Stampare stringhe e numeri](#Stampare-stringhe-e-numeri)\n",
    "- [*Esercizio*](#Esercizio)"
   ]
  },
  {
   "cell_type": "markdown",
   "metadata": {},
   "source": [
    "Info\n",
    "---\n",
    "A prescindere dall'applicazione, programmare è un'abilità molto utile, e **Python** è il linguaggio perfetto per iniziare. \n",
    "\n",
    "Inoltre, Python è un ottimo linguaggio per lavorare con i dati. [Python Data Science Handbook](https://jakevdp.github.io/PythonDataScienceHandbook/index.html) è un buon libro per imparare Python nel contesto della Data Science. [**Anaconda**](https://www.anaconda.com/download) è una distribuzione di Python pensata per la Data Science, ed è quella che consiglio di [installare](https://docs.anaconda.com/free/anaconda/install/index.html).\n",
    "\n",
    "Queste lezioni sono realizzate con [**Jupyter**](https://jupyter.org/), che troviamo dentro Anaconda. Oltre ad essere un *ambiente di sviluppo* interattivo, molto efficiente nella prototipazione di idee e algoritmi, è uno strumento utile per realizzare presentazioni a carattere scientifico."
   ]
  },
  {
   "cell_type": "markdown",
   "metadata": {},
   "source": [
    "Hello, world!\n",
    "--\n",
    "La prima cosa che si fa quando si impara un nuovo linguaggio di programmazione è stampare *hello, world!*"
   ]
  },
  {
   "cell_type": "code",
   "execution_count": 15,
   "metadata": {},
   "outputs": [
    {
     "name": "stdout",
     "output_type": "stream",
     "text": [
      "hello, world!\n"
     ]
    }
   ],
   "source": [
    "print('hello, world!')"
   ]
  },
  {
   "cell_type": "markdown",
   "metadata": {},
   "source": [
    "Abbiamo usato la *funzione* print. Vedremo presto in dettaglio cosa è una funzione. Possiamo intanto pensare ad un comando che\n",
    "\n",
    "- ha un nome univoco\n",
    "- accetta uno o più input\n",
    "- fa *qualcosa* che abbia qualcosa a che fare col nome."
   ]
  },
  {
   "cell_type": "markdown",
   "metadata": {},
   "source": [
    "Commenti\n",
    "---\n",
    "I *commenti* sono fondamentali nella programmazione: aiutano a scrivere, organizzare e leggere il codice."
   ]
  },
  {
   "cell_type": "code",
   "execution_count": 16,
   "metadata": {},
   "outputs": [
    {
     "name": "stdout",
     "output_type": "stream",
     "text": [
      "questo non è un commento\n"
     ]
    }
   ],
   "source": [
    "#questo è un commento: non produce nessuna azione quando il codice viene eseguito\n",
    "print('questo non è un commento')"
   ]
  },
  {
   "cell_type": "markdown",
   "metadata": {},
   "source": [
    "Variabili\n",
    "---\n",
    "Una *variabile* contiene un valore, che può essere cambiato in qualsiasi momento."
   ]
  },
  {
   "cell_type": "code",
   "execution_count": 17,
   "metadata": {},
   "outputs": [
    {
     "name": "stdout",
     "output_type": "stream",
     "text": [
      "hello, world!\n"
     ]
    }
   ],
   "source": [
    "a = 'hello, world!'\n",
    "print(a)"
   ]
  },
  {
   "cell_type": "code",
   "execution_count": 18,
   "metadata": {},
   "outputs": [
    {
     "name": "stdout",
     "output_type": "stream",
     "text": [
      "ciao, mondo!\n"
     ]
    }
   ],
   "source": [
    "a = 'ciao, mondo!'\n",
    "print(a)"
   ]
  },
  {
   "cell_type": "markdown",
   "metadata": {},
   "source": [
    "Una variabile dichiarata in una *cella* del notebook può essere usata in tutte le altre celle."
   ]
  },
  {
   "cell_type": "code",
   "execution_count": 19,
   "metadata": {},
   "outputs": [
    {
     "data": {
      "text/plain": [
       "'ciao, mondo!'"
      ]
     },
     "execution_count": 19,
     "metadata": {},
     "output_type": "execute_result"
    }
   ],
   "source": [
    "a"
   ]
  },
  {
   "cell_type": "markdown",
   "metadata": {},
   "source": [
    "Ogni cella funziona come un terminale interattivo. Eseguendo la cella qui sopra sto chiedendo a Jupyter *qual è il valore della variabile a*?\n",
    "\n",
    "Si può usare questa sintassi in alternativa alla funzione print. In queste lezioni userò entrambi i costrutti."
   ]
  },
  {
   "cell_type": "markdown",
   "metadata": {},
   "source": [
    "Jupyter dà la possibilità di conoscere, in ogni momento, tutte le variabili che sono state dichiarate. Per questo si usa il comando\n",
    "\n",
    "        %whos"
   ]
  },
  {
   "cell_type": "code",
   "execution_count": 20,
   "metadata": {},
   "outputs": [
    {
     "name": "stdout",
     "output_type": "stream",
     "text": [
      "Variable   Type     Data/Info\n",
      "-----------------------------\n",
      "a          str      ciao, mondo!\n",
      "b          int      1\n",
      "c          float    1.1\n",
      "d          list     n=0\n"
     ]
    }
   ],
   "source": [
    "%whos"
   ]
  },
  {
   "cell_type": "markdown",
   "metadata": {},
   "source": [
    "Qualche tipo: stringhe e numeri\n",
    "---\n",
    "Python intuisce di che *tipo* è una variabile in base a come questa viene dichiarata. Ci sono diversi tipi di variabili, e il programmatore può definirne di nuovi."
   ]
  },
  {
   "cell_type": "code",
   "execution_count": 21,
   "metadata": {},
   "outputs": [
    {
     "data": {
      "text/plain": [
       "str"
      ]
     },
     "execution_count": 21,
     "metadata": {},
     "output_type": "execute_result"
    }
   ],
   "source": [
    "a = 'ciao'#dichiarata come stringa, cioè con gli apici\n",
    "\n",
    "type(a)#la funzione type restituisce il tipo di una variabile"
   ]
  },
  {
   "cell_type": "code",
   "execution_count": 22,
   "metadata": {},
   "outputs": [
    {
     "data": {
      "text/plain": [
       "int"
      ]
     },
     "execution_count": 22,
     "metadata": {},
     "output_type": "execute_result"
    }
   ],
   "source": [
    "b = 1#dichiarata come intero \n",
    "\n",
    "type(b)"
   ]
  },
  {
   "cell_type": "code",
   "execution_count": 23,
   "metadata": {},
   "outputs": [
    {
     "data": {
      "text/plain": [
       "float"
      ]
     },
     "execution_count": 23,
     "metadata": {},
     "output_type": "execute_result"
    }
   ],
   "source": [
    "c = 1.1#float (decimale)\n",
    "\n",
    "type(c)"
   ]
  },
  {
   "cell_type": "code",
   "execution_count": 24,
   "metadata": {},
   "outputs": [
    {
     "data": {
      "text/plain": [
       "list"
      ]
     },
     "execution_count": 24,
     "metadata": {},
     "output_type": "execute_result"
    }
   ],
   "source": [
    "d = []#lista\n",
    "\n",
    "type(d)"
   ]
  },
  {
   "cell_type": "code",
   "execution_count": 25,
   "metadata": {},
   "outputs": [
    {
     "name": "stdout",
     "output_type": "stream",
     "text": [
      "Variable   Type     Data/Info\n",
      "-----------------------------\n",
      "a          str      ciao\n",
      "b          int      1\n",
      "c          float    1.1\n",
      "d          list     n=0\n"
     ]
    }
   ],
   "source": [
    "%whos"
   ]
  },
  {
   "cell_type": "markdown",
   "metadata": {},
   "source": [
    "### Stringhe\n",
    "\n",
    "Una *stringa* è un insieme ordinato di caratteri. Può essere contenuta da 'singoli' o \"doppi\" apici, non fa differenza."
   ]
  },
  {
   "cell_type": "code",
   "execution_count": 26,
   "metadata": {},
   "outputs": [
    {
     "data": {
      "text/plain": [
       "'ciao mamma!'"
      ]
     },
     "execution_count": 26,
     "metadata": {},
     "output_type": "execute_result"
    }
   ],
   "source": [
    "a = 'ciao mamma!'\n",
    "\n",
    "a"
   ]
  },
  {
   "cell_type": "code",
   "execution_count": 27,
   "metadata": {},
   "outputs": [
    {
     "data": {
      "text/plain": [
       "'ciao mamma!'"
      ]
     },
     "execution_count": 27,
     "metadata": {},
     "output_type": "execute_result"
    }
   ],
   "source": [
    "b = \"ciao mamma!\"\n",
    "\n",
    "b"
   ]
  },
  {
   "cell_type": "markdown",
   "metadata": {},
   "source": [
    "Alle stringhe (come a tutti i tipi di variabili) possono essere applicate delle funzioni, come print vista in precedenza."
   ]
  },
  {
   "cell_type": "code",
   "execution_count": 28,
   "metadata": {},
   "outputs": [
    {
     "data": {
      "text/plain": [
       "'francesco'"
      ]
     },
     "execution_count": 28,
     "metadata": {},
     "output_type": "execute_result"
    }
   ],
   "source": [
    "a = 'Francesco'\n",
    "\n",
    "a.lower()#trasforma la stringa in minuscolo"
   ]
  },
  {
   "cell_type": "code",
   "execution_count": 29,
   "metadata": {},
   "outputs": [
    {
     "data": {
      "text/plain": [
       "'FRANCESCO'"
      ]
     },
     "execution_count": 29,
     "metadata": {},
     "output_type": "execute_result"
    }
   ],
   "source": [
    "a.upper()#trasforma la stringa in maiuscolo"
   ]
  },
  {
   "cell_type": "code",
   "execution_count": 30,
   "metadata": {},
   "outputs": [
    {
     "data": {
      "text/plain": [
       "'Francesca'"
      ]
     },
     "execution_count": 30,
     "metadata": {},
     "output_type": "execute_result"
    }
   ],
   "source": [
    "a.replace('o','a')#costruisce una nuova stringa operando una sostituzione di carattere"
   ]
  },
  {
   "cell_type": "code",
   "execution_count": 31,
   "metadata": {},
   "outputs": [
    {
     "data": {
      "text/plain": [
       "'Francesca'"
      ]
     },
     "execution_count": 31,
     "metadata": {},
     "output_type": "execute_result"
    }
   ],
   "source": [
    "b = a.replace('o','a')#assegnazione della nuova stringa ad altra variabile\n",
    "\n",
    "b"
   ]
  },
  {
   "cell_type": "markdown",
   "metadata": {},
   "source": [
    "Due stringhe possono essere concatenate con l'operazione *+*: il risultato è una nuova stringa."
   ]
  },
  {
   "cell_type": "code",
   "execution_count": 32,
   "metadata": {},
   "outputs": [],
   "source": [
    "a = 'Ciao mamma, guarda come'\n",
    "b = ' mi diverto'\n",
    "c =  a + b"
   ]
  },
  {
   "cell_type": "code",
   "execution_count": 33,
   "metadata": {},
   "outputs": [
    {
     "data": {
      "text/plain": [
       "'Ciao mamma, guarda come mi diverto'"
      ]
     },
     "execution_count": 33,
     "metadata": {},
     "output_type": "execute_result"
    }
   ],
   "source": [
    "c"
   ]
  },
  {
   "cell_type": "markdown",
   "metadata": {},
   "source": [
    "### Numeri: interi e float\n",
    "\n",
    "*int* (numeri interi) e *float* (numeri decimali) sono altri due tipi standard di Python. "
   ]
  },
  {
   "cell_type": "code",
   "execution_count": 34,
   "metadata": {},
   "outputs": [
    {
     "data": {
      "text/plain": [
       "2.0"
      ]
     },
     "execution_count": 34,
     "metadata": {},
     "output_type": "execute_result"
    }
   ],
   "source": [
    "a = 1#intero\n",
    "b = 1.0#float\n",
    "c = a + b\n",
    "\n",
    "c"
   ]
  },
  {
   "cell_type": "markdown",
   "metadata": {},
   "source": [
    "Per convenzione, operazioni tra interi e float restituiscono float."
   ]
  },
  {
   "cell_type": "code",
   "execution_count": 35,
   "metadata": {},
   "outputs": [
    {
     "data": {
      "text/plain": [
       "float"
      ]
     },
     "execution_count": 35,
     "metadata": {},
     "output_type": "execute_result"
    }
   ],
   "source": [
    "type(c)"
   ]
  },
  {
   "cell_type": "markdown",
   "metadata": {},
   "source": [
    "Le operazioni aritmetiche hanno una priorità: moltiplicazione e divisione vengono eseguite per prime. La priorità viene alterata dalle parentesi."
   ]
  },
  {
   "cell_type": "code",
   "execution_count": 36,
   "metadata": {},
   "outputs": [
    {
     "data": {
      "text/plain": [
       "25"
      ]
     },
     "execution_count": 36,
     "metadata": {},
     "output_type": "execute_result"
    }
   ],
   "source": [
    "2*10+5#2*10 viene eseguito prima"
   ]
  },
  {
   "cell_type": "code",
   "execution_count": 37,
   "metadata": {},
   "outputs": [
    {
     "data": {
      "text/plain": [
       "30"
      ]
     },
     "execution_count": 37,
     "metadata": {},
     "output_type": "execute_result"
    }
   ],
   "source": [
    "2*(10+5)#adesso 10+5 viene eseguito prima"
   ]
  },
  {
   "cell_type": "markdown",
   "metadata": {},
   "source": [
    "**Nota**: Python interpreta l'operazione di addizione, +, in base al tipo delle variabili con cui opera."
   ]
  },
  {
   "cell_type": "markdown",
   "metadata": {},
   "source": [
    "### Stampare stringhe e numeri"
   ]
  },
  {
   "cell_type": "code",
   "execution_count": 38,
   "metadata": {},
   "outputs": [
    {
     "name": "stdout",
     "output_type": "stream",
     "text": [
      "Oggi è il 28\n"
     ]
    }
   ],
   "source": [
    "a = 'Oggi è il'\n",
    "b = 28\n",
    "print(a, b)#print aggiunge uno spazio tra gli argomenti e converte b in una stringa"
   ]
  },
  {
   "cell_type": "code",
   "execution_count": 39,
   "metadata": {},
   "outputs": [
    {
     "name": "stdout",
     "output_type": "stream",
     "text": [
      "Oggi ci sono 25.7 gradi\n"
     ]
    }
   ],
   "source": [
    "a = 'Oggi ci sono'\n",
    "b = 25.7\n",
    "c = 'gradi'\n",
    "print(a, b, c)"
   ]
  },
  {
   "cell_type": "markdown",
   "metadata": {},
   "source": [
    "Un'alternativa è utilizzare i *segnaposto* e la funzione *format*."
   ]
  },
  {
   "cell_type": "code",
   "execution_count": 40,
   "metadata": {},
   "outputs": [
    {
     "name": "stdout",
     "output_type": "stream",
     "text": [
      "Il risultato di 10 diviso 2 è 5.0\n"
     ]
    }
   ],
   "source": [
    "a = 10\n",
    "b = 2\n",
    "c = a/b\n",
    "print('Il risultato di {} diviso {} è {}'.format(a, b, c))"
   ]
  },
  {
   "cell_type": "markdown",
   "metadata": {},
   "source": [
    "Questo è utile se si vuole specificare un formato di stampa."
   ]
  },
  {
   "cell_type": "code",
   "execution_count": 41,
   "metadata": {},
   "outputs": [
    {
     "name": "stdout",
     "output_type": "stream",
     "text": [
      "Il risultato di 10 diviso 3 è 3.3333333333333335\n"
     ]
    }
   ],
   "source": [
    "a = 10\n",
    "b = 3\n",
    "c = a/b\n",
    "print('Il risultato di {} diviso {} è {}'.format(a, b, c))"
   ]
  },
  {
   "cell_type": "code",
   "execution_count": 42,
   "metadata": {},
   "outputs": [
    {
     "name": "stdout",
     "output_type": "stream",
     "text": [
      "Il risultato di 10 diviso 3 è circa 3.33\n"
     ]
    }
   ],
   "source": [
    "a = 10\n",
    "b = 3\n",
    "c = a/b\n",
    "print('Il risultato di {} diviso {} è circa {:.2f}'.format(a, b, c))"
   ]
  },
  {
   "cell_type": "code",
   "execution_count": 43,
   "metadata": {},
   "outputs": [],
   "source": [
    "d = 'Il risultato di {} diviso {} è {:.2f}'.format(a, b, c)"
   ]
  },
  {
   "cell_type": "code",
   "execution_count": 44,
   "metadata": {},
   "outputs": [
    {
     "data": {
      "text/plain": [
       "'Il risultato di 10 diviso 3 è 3.33'"
      ]
     },
     "execution_count": 44,
     "metadata": {},
     "output_type": "execute_result"
    }
   ],
   "source": [
    "d"
   ]
  },
  {
   "cell_type": "markdown",
   "metadata": {},
   "source": [
    "***Esercizio***\n",
    "---\n",
    "- dichiarare due variabili numeriche\n",
    "- eseguire un'operazione qualsiasi che le coinvolga\n",
    "- salvare il risultato in un terza variabile\n",
    "- stampare il risultato nella forma *Il risultato è ... ed è di tipo ...*\n",
    "- se il risultato è un float, stampare solo le prime 3 cifre decimali\n",
    "- commentare le righe del codice con il significato delle azioni corrispondenti"
   ]
  },
  {
   "cell_type": "code",
   "execution_count": 45,
   "metadata": {},
   "outputs": [],
   "source": [
    "#FILL ME"
   ]
  },
  {
   "cell_type": "markdown",
   "metadata": {},
   "source": [
    "<script>\n",
    "  $(document).ready(function(){\n",
    "    $('div.back-to-top').hide();\n",
    "    $('nav#menubar').hide();\n",
    "    $('div.prompt').hide();\n",
    "    $('.hidden-print').hide();\n",
    "  });\n",
    "</script>\n",
    "\n",
    "<footer id=\"attribution\" style=\"float:right; color:#999; background:#fff;\">\n",
    "Created with Jupyter.\n",
    "</footer>"
   ]
  }
 ],
 "metadata": {
  "kernelspec": {
   "display_name": "Python 3",
   "language": "python",
   "name": "python3"
  },
  "language_info": {
   "codemirror_mode": {
    "name": "ipython",
    "version": 3
   },
   "file_extension": ".py",
   "mimetype": "text/x-python",
   "name": "python",
   "nbconvert_exporter": "python",
   "pygments_lexer": "ipython3",
   "version": "3.8.5"
  }
 },
 "nbformat": 4,
 "nbformat_minor": 2
}
