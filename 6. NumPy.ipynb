{
 "cells": [
  {
   "cell_type": "markdown",
   "metadata": {},
   "source": [
    "*Contenuti*\n",
    "===\n",
    "- [La libreria NumPy](#La-libreria-NumPy)\n",
    "    - [Gli array](#Gli-array)\n",
    "    - [Costruzione](#Costruzione)\n",
    "    - [Accesso ai singoli elementi](#Accesso-ai-singoli-elementi)\n",
    "    - [*shape*, *size* e *ndim*](#shape,-size-e-ndim)\n",
    "        - [*Esercizio 1*](#Esercizio-1)\n",
    "    - [Slicing e accesso a singole dimensioni](#Slicing-e-accesso-a-singole-dimensioni)\n",
    "    - [Generazione di numeri casuali](#Generazione-di-numeri-casuali)\n",
    "    - [Operazioni aggregate e *axes*](#Operazioni-aggregate-e-axes)\n",
    "        - [*Esercizio 2*](#Esercizio-2)\n",
    "        - [*Esercizio 3*](#Esercizio-3)\n",
    "    - [*stack* e *split*](#stack-e-split)\n",
    "    - [Aritmetica degli array](#Aritmetica-degli-array)\n",
    "        - [*Esercizio 4*](#Esercizio-4)\n",
    "    - [*Esercizio 5*](#Esercizio-5)\n",
    "    - [*Esercizio 6*](#Esercizio-6)\n",
    "    - [*Esercizio 7*](#Esercizio-7)"
   ]
  },
  {
   "cell_type": "markdown",
   "metadata": {},
   "source": [
    "La libreria NumPy\n",
    "===\n",
    "Il calcolo vettoriale è molto usato nel machine learning. Lo standard Python per questo tipo di operazioni è *NumPy*. Questa libreria costituisce, insieme a *Jupyter* (sviluppo), *Pandas* (analisi e gestione dei dati), *Matplotlib* (visualizzazione), *Scikit-learn* (preprocessing e apprendimento) e *Keras* (reti neurali) l'ecosistema Python per la data science, sicuramente il più usato, supportato e flessibile al mondo.\n",
    "\n",
    "A [questo link](https://jakevdp.github.io/PythonDataScienceHandbook/02.00-introduction-to-numpy.html) c'è un estratto del *Python Data Science Handbook* dedicato a NumPy.\n",
    "\n",
    "Per poter utilizzare NumPy lo *importiamo*: è infatti già disponibile nella distribuzione Anaconda."
   ]
  },
  {
   "cell_type": "code",
   "execution_count": 1,
   "metadata": {},
   "outputs": [
    {
     "name": "stdout",
     "output_type": "stream",
     "text": [
      "1.19.2\n"
     ]
    }
   ],
   "source": [
    "import numpy as np\n",
    "print(np.__version__)"
   ]
  },
  {
   "cell_type": "markdown",
   "metadata": {},
   "source": [
    "Gli *array*\n",
    "---\n",
    "Per NumPy, ogni vettore o matrice è un *array*.\n",
    "\n",
    "**Array**: *Insieme organizzato di elementi omogenei, identificati da uno stesso nome e da uno o più indici*."
   ]
  },
  {
   "cell_type": "markdown",
   "metadata": {},
   "source": [
    "Costruzione\n",
    "---\n",
    "Un array NumPy si può costruire in vari modi; per esempio, a partire da una lista Python."
   ]
  },
  {
   "cell_type": "code",
   "execution_count": 2,
   "metadata": {},
   "outputs": [
    {
     "name": "stdout",
     "output_type": "stream",
     "text": [
      "[3, 7, 2, 0, 6, 2]\n",
      "[3 7 2 0 6 2]\n"
     ]
    }
   ],
   "source": [
    "python_lst = [3,7,2,0,6,2]\n",
    "np_array = np.array(python_lst)\n",
    "print(python_lst)\n",
    "print(np_array)"
   ]
  },
  {
   "cell_type": "code",
   "execution_count": 3,
   "metadata": {},
   "outputs": [
    {
     "name": "stdout",
     "output_type": "stream",
     "text": [
      "<class 'list'>\n",
      "<class 'numpy.ndarray'>\n"
     ]
    }
   ],
   "source": [
    "print(type(python_lst))\n",
    "print(type(np_array))"
   ]
  },
  {
   "cell_type": "markdown",
   "metadata": {},
   "source": [
    "La funzione *full* genera un array con un numero assegnato di righe e colonne, e riempe tutte le sue posizioni con un singolo valore, anche questo assegnato.\n",
    "\n",
    "**Nota**: NumPy tratta come array sia le matrici che i vettori (singola riga o colonna). Per comodità di lettura, anche se non è obbligatorio, chiameremo le (variabili che contengono le) matrici con la lettera maiuscola, mentre utilizzeremo la minuscola per i vettori."
   ]
  },
  {
   "cell_type": "code",
   "execution_count": 4,
   "metadata": {},
   "outputs": [
    {
     "data": {
      "text/plain": [
       "array([[7, 7, 7],\n",
       "       [7, 7, 7],\n",
       "       [7, 7, 7],\n",
       "       [7, 7, 7],\n",
       "       [7, 7, 7]])"
      ]
     },
     "execution_count": 4,
     "metadata": {},
     "output_type": "execute_result"
    }
   ],
   "source": [
    "A = np.full((5,3), 7)\n",
    "\n",
    "A"
   ]
  },
  {
   "cell_type": "markdown",
   "metadata": {},
   "source": [
    "Le funzioni *zeros* e *ones* sono casi particolari di full, e producono array rispettivamente di soli zero e uno."
   ]
  },
  {
   "cell_type": "code",
   "execution_count": 5,
   "metadata": {},
   "outputs": [
    {
     "data": {
      "text/plain": [
       "array([[0., 0., 0.],\n",
       "       [0., 0., 0.],\n",
       "       [0., 0., 0.],\n",
       "       [0., 0., 0.],\n",
       "       [0., 0., 0.]])"
      ]
     },
     "execution_count": 5,
     "metadata": {},
     "output_type": "execute_result"
    }
   ],
   "source": [
    "np.zeros((5,3))"
   ]
  },
  {
   "cell_type": "code",
   "execution_count": 6,
   "metadata": {},
   "outputs": [
    {
     "data": {
      "text/plain": [
       "array([[1., 1., 1., 1., 1., 1., 1.],\n",
       "       [1., 1., 1., 1., 1., 1., 1.]])"
      ]
     },
     "execution_count": 6,
     "metadata": {},
     "output_type": "execute_result"
    }
   ],
   "source": [
    "np.ones((2,7))"
   ]
  },
  {
   "cell_type": "markdown",
   "metadata": {},
   "source": [
    "La funzione *arange* viene usata per generare numeri in un intervallo."
   ]
  },
  {
   "cell_type": "code",
   "execution_count": 7,
   "metadata": {},
   "outputs": [
    {
     "data": {
      "text/plain": [
       "array([0, 1, 2, 3, 4, 5, 6, 7, 8, 9])"
      ]
     },
     "execution_count": 7,
     "metadata": {},
     "output_type": "execute_result"
    }
   ],
   "source": [
    "np.arange(10)"
   ]
  },
  {
   "cell_type": "markdown",
   "metadata": {},
   "source": [
    "Accesso ai singoli elementi\n",
    "---\n",
    "Come per le liste Python, si accede agli elementi di un array NumPy attraverso le parentesi quadre."
   ]
  },
  {
   "cell_type": "code",
   "execution_count": 8,
   "metadata": {},
   "outputs": [
    {
     "data": {
      "text/plain": [
       "1"
      ]
     },
     "execution_count": 8,
     "metadata": {},
     "output_type": "execute_result"
    }
   ],
   "source": [
    "a = np.array([1,2,3,4,5,6,7,8])\n",
    "\n",
    "a[0]"
   ]
  },
  {
   "cell_type": "markdown",
   "metadata": {},
   "source": [
    "Per convenzione, nelle matrici il primo indice è quello delle righe."
   ]
  },
  {
   "cell_type": "code",
   "execution_count": 9,
   "metadata": {},
   "outputs": [
    {
     "data": {
      "text/plain": [
       "array([1, 2, 3, 4])"
      ]
     },
     "execution_count": 9,
     "metadata": {},
     "output_type": "execute_result"
    }
   ],
   "source": [
    "A = np.array([[1,2,3,4],\n",
    "              [5,6,7,8]])\n",
    "\n",
    "A[0]"
   ]
  },
  {
   "cell_type": "code",
   "execution_count": 10,
   "metadata": {},
   "outputs": [
    {
     "data": {
      "text/plain": [
       "7"
      ]
     },
     "execution_count": 10,
     "metadata": {},
     "output_type": "execute_result"
    }
   ],
   "source": [
    "A[1][2]#elemento in posizione (colonna) 2 della riga 1"
   ]
  },
  {
   "cell_type": "markdown",
   "metadata": {},
   "source": [
    "*shape*, *size* e *ndim*\n",
    "---\n",
    "Un array NumPy ha alcune proprietà legate alla sua struttura. \n",
    "\n",
    "Come abbiamo visto con full, zeros e ones, è possibile indicare il numero di righe e colonne di un array. La coppia di questi valori è detta *shape*, ed è una proprietà di ogni array."
   ]
  },
  {
   "cell_type": "code",
   "execution_count": 11,
   "metadata": {},
   "outputs": [
    {
     "data": {
      "text/plain": [
       "(2, 4)"
      ]
     },
     "execution_count": 11,
     "metadata": {},
     "output_type": "execute_result"
    }
   ],
   "source": [
    "A.shape"
   ]
  },
  {
   "cell_type": "markdown",
   "metadata": {},
   "source": [
    "Un array NumPy si può convenientemente rimodellare con la funzione *reshape*. Il nuovo numero di righe e colonne deve essere coerente con quello di partenza."
   ]
  },
  {
   "cell_type": "code",
   "execution_count": 12,
   "metadata": {},
   "outputs": [
    {
     "data": {
      "text/plain": [
       "array([[1, 2],\n",
       "       [3, 4],\n",
       "       [5, 6],\n",
       "       [7, 8]])"
      ]
     },
     "execution_count": 12,
     "metadata": {},
     "output_type": "execute_result"
    }
   ],
   "source": [
    "B = A.reshape(4,2)\n",
    "\n",
    "B"
   ]
  },
  {
   "cell_type": "code",
   "execution_count": 13,
   "metadata": {},
   "outputs": [
    {
     "data": {
      "text/plain": [
       "(4, 2)"
      ]
     },
     "execution_count": 13,
     "metadata": {},
     "output_type": "execute_result"
    }
   ],
   "source": [
    "B.shape"
   ]
  },
  {
   "cell_type": "code",
   "execution_count": 14,
   "metadata": {},
   "outputs": [
    {
     "ename": "ValueError",
     "evalue": "cannot reshape array of size 8 into shape (3,3)",
     "output_type": "error",
     "traceback": [
      "\u001b[0;31m---------------------------------------------------------------------------\u001b[0m",
      "\u001b[0;31mValueError\u001b[0m                                Traceback (most recent call last)",
      "\u001b[0;32m<ipython-input-14-288d9b971ab7>\u001b[0m in \u001b[0;36m<module>\u001b[0;34m\u001b[0m\n\u001b[0;32m----> 1\u001b[0;31m \u001b[0mC\u001b[0m \u001b[0;34m=\u001b[0m \u001b[0mB\u001b[0m\u001b[0;34m.\u001b[0m\u001b[0mreshape\u001b[0m\u001b[0;34m(\u001b[0m\u001b[0;36m3\u001b[0m\u001b[0;34m,\u001b[0m\u001b[0;36m3\u001b[0m\u001b[0;34m)\u001b[0m\u001b[0;34m\u001b[0m\u001b[0;34m\u001b[0m\u001b[0m\n\u001b[0m",
      "\u001b[0;31mValueError\u001b[0m: cannot reshape array of size 8 into shape (3,3)"
     ]
    }
   ],
   "source": [
    "C = B.reshape(3,3)"
   ]
  },
  {
   "cell_type": "markdown",
   "metadata": {},
   "source": [
    "La proprietà *size* indica quanti elementi sono contenuti in un array."
   ]
  },
  {
   "cell_type": "code",
   "execution_count": 15,
   "metadata": {},
   "outputs": [
    {
     "data": {
      "text/plain": [
       "8"
      ]
     },
     "execution_count": 15,
     "metadata": {},
     "output_type": "execute_result"
    }
   ],
   "source": [
    "a = np.array([1,2,3,4,5,6,7,8])\n",
    "\n",
    "a.size"
   ]
  },
  {
   "cell_type": "code",
   "execution_count": 16,
   "metadata": {},
   "outputs": [
    {
     "data": {
      "text/plain": [
       "8"
      ]
     },
     "execution_count": 16,
     "metadata": {},
     "output_type": "execute_result"
    }
   ],
   "source": [
    "B = a.reshape(4,2)\n",
    "\n",
    "B.size"
   ]
  },
  {
   "cell_type": "code",
   "execution_count": 17,
   "metadata": {},
   "outputs": [
    {
     "data": {
      "text/plain": [
       "100"
      ]
     },
     "execution_count": 17,
     "metadata": {},
     "output_type": "execute_result"
    }
   ],
   "source": [
    "np.full((10,10), 0).size"
   ]
  },
  {
   "cell_type": "markdown",
   "metadata": {},
   "source": [
    "Come abbiamo detto, per NumPy ogni oggetto vettoriale è trattato come un array. Questi possono avere un numero di dimensioni a piacere.\n",
    "\n",
    "In matematica, un vettore è formato da una sola riga (o colonna), ed ha quindi una sola dimensione. Una matrice, che ha righe e colonne, ha due dimensioni. L'estensione di una matrice a più di due dimensioni è detta *tensore*.\n",
    "\n",
    "Un filmato può essere rappresentato come un tensore: ogni frame che lo compone è una matrice di pixel, e ciascuno di essi è sistemato sulla terza dimensione, quella del tempo."
   ]
  },
  {
   "cell_type": "markdown",
   "metadata": {},
   "source": [
    "### *Esercizio 1*\n",
    "In un'immagine a colori, ad ogni pixel sono associati 3 valori tra 0 e 255, rispettivamente per i rossi, i verdi e i blu. Quante dimensioni avrà il tensore che rappresenta un filmato a colori?\n",
    "\n",
    "---"
   ]
  },
  {
   "cell_type": "markdown",
   "metadata": {},
   "source": [
    "Attraverso il campo *ndim* si può accedere al numero di dimensioni di un array."
   ]
  },
  {
   "cell_type": "code",
   "execution_count": 18,
   "metadata": {},
   "outputs": [
    {
     "name": "stdout",
     "output_type": "stream",
     "text": [
      "[ 0  1  2  3  4  5  6  7  8  9 10 11 12 13 14 15 16 17 18 19 20 21 22 23]\n",
      "1\n"
     ]
    }
   ],
   "source": [
    "a = np.arange(24)#24 elementi\n",
    "\n",
    "print(a)\n",
    "print(a.ndim)"
   ]
  },
  {
   "cell_type": "code",
   "execution_count": 19,
   "metadata": {},
   "outputs": [
    {
     "name": "stdout",
     "output_type": "stream",
     "text": [
      "[[ 0  1  2  3]\n",
      " [ 4  5  6  7]\n",
      " [ 8  9 10 11]\n",
      " [12 13 14 15]\n",
      " [16 17 18 19]\n",
      " [20 21 22 23]]\n",
      "2\n"
     ]
    }
   ],
   "source": [
    "B = a.reshape(6,4)#6 righe, ciascuna con 4 elementi\n",
    "\n",
    "print(B)\n",
    "print(B.ndim)"
   ]
  },
  {
   "cell_type": "code",
   "execution_count": 20,
   "metadata": {},
   "outputs": [
    {
     "name": "stdout",
     "output_type": "stream",
     "text": [
      "[[[ 0  1  2  3]\n",
      "  [ 4  5  6  7]]\n",
      "\n",
      " [[ 8  9 10 11]\n",
      "  [12 13 14 15]]\n",
      "\n",
      " [[16 17 18 19]\n",
      "  [20 21 22 23]]]\n",
      "3\n"
     ]
    }
   ],
   "source": [
    "C = a.reshape(3,2,4)#'3 matrici, ciascuna con 2 righe, ciascuna delle quali con 4 elementi'\n",
    "\n",
    "print(C)\n",
    "print(C.ndim)"
   ]
  },
  {
   "cell_type": "markdown",
   "metadata": {},
   "source": [
    "Mentre ndim è il numero di dimensioni di un array, shape indica la *profondità* di ogni dimensione. Tornando all'esempio del filmato a colori, avremo\n",
    "- ndim = 4: tempo, $y$, $x$, colori\n",
    "- shape = (\\# frame del filmato, \\# pixel sulla $y$, \\# pixel sulla $x$, 3 livelli di colore).\n",
    "\n",
    "Possiamo rappresentarlo in altri modi?"
   ]
  },
  {
   "cell_type": "markdown",
   "metadata": {},
   "source": [
    "Slicing e accesso a singole dimensioni\n",
    "---\n",
    "NumPy prevede operazioni di slicing simili a quelle viste per le liste Python."
   ]
  },
  {
   "cell_type": "code",
   "execution_count": 21,
   "metadata": {},
   "outputs": [
    {
     "name": "stdout",
     "output_type": "stream",
     "text": [
      "[0 1 2]\n",
      "[3 4 5 6 7 8 9]\n"
     ]
    }
   ],
   "source": [
    "a = np.arange(10)\n",
    "\n",
    "print(a[:3])\n",
    "print(a[3:])"
   ]
  },
  {
   "cell_type": "markdown",
   "metadata": {},
   "source": [
    "Si può accedere ad intervalli o gruppi di singole righe e colonne con una sintassi molto compatta. Il simbolo ':' indica tutti gli elementi lungo una dimensione."
   ]
  },
  {
   "cell_type": "code",
   "execution_count": 22,
   "metadata": {},
   "outputs": [
    {
     "data": {
      "text/plain": [
       "array([[ 0,  1,  2,  3,  4,  5,  6,  7],\n",
       "       [ 8,  9, 10, 11, 12, 13, 14, 15],\n",
       "       [16, 17, 18, 19, 20, 21, 22, 23],\n",
       "       [24, 25, 26, 27, 28, 29, 30, 31],\n",
       "       [32, 33, 34, 35, 36, 37, 38, 39],\n",
       "       [40, 41, 42, 43, 44, 45, 46, 47]])"
      ]
     },
     "execution_count": 22,
     "metadata": {},
     "output_type": "execute_result"
    }
   ],
   "source": [
    "A = np.arange(48).reshape(6,8)\n",
    "\n",
    "A"
   ]
  },
  {
   "cell_type": "code",
   "execution_count": 23,
   "metadata": {},
   "outputs": [
    {
     "data": {
      "text/plain": [
       "array([ 0,  8, 16, 24, 32, 40])"
      ]
     },
     "execution_count": 23,
     "metadata": {},
     "output_type": "execute_result"
    }
   ],
   "source": [
    "A[:,0]#(tutte le righe,) la prima colonna"
   ]
  },
  {
   "cell_type": "code",
   "execution_count": 24,
   "metadata": {},
   "outputs": [
    {
     "data": {
      "text/plain": [
       "array([ 7, 15, 23, 31, 39, 47])"
      ]
     },
     "execution_count": 24,
     "metadata": {},
     "output_type": "execute_result"
    }
   ],
   "source": [
    "A[:,-1]#(tutte le righe,) l'ultima colonna"
   ]
  },
  {
   "cell_type": "code",
   "execution_count": 25,
   "metadata": {},
   "outputs": [
    {
     "data": {
      "text/plain": [
       "array([0, 1, 2, 3, 4, 5, 6, 7])"
      ]
     },
     "execution_count": 25,
     "metadata": {},
     "output_type": "execute_result"
    }
   ],
   "source": [
    "A[0,:]#la prima riga (, tutte le colonne) "
   ]
  },
  {
   "cell_type": "code",
   "execution_count": 26,
   "metadata": {},
   "outputs": [
    {
     "data": {
      "text/plain": [
       "array([15, 23, 31])"
      ]
     },
     "execution_count": 26,
     "metadata": {},
     "output_type": "execute_result"
    }
   ],
   "source": [
    "A[1:4, -1]#righe dalla posizione 1 (inclusa) alla posizione 4 (esclusa), ultima colonna"
   ]
  },
  {
   "cell_type": "code",
   "execution_count": 27,
   "metadata": {},
   "outputs": [
    {
     "data": {
      "text/plain": [
       "array([[ 8,  9, 10, 11, 12, 13, 14, 15],\n",
       "       [16, 17, 18, 19, 20, 21, 22, 23],\n",
       "       [40, 41, 42, 43, 44, 45, 46, 47]])"
      ]
     },
     "execution_count": 27,
     "metadata": {},
     "output_type": "execute_result"
    }
   ],
   "source": [
    "rows_to_keep = [1,2,-1]\n",
    "\n",
    "A[rows_to_keep, :]#righe con indici selezionati, tutte le colonne"
   ]
  },
  {
   "cell_type": "code",
   "execution_count": 28,
   "metadata": {},
   "outputs": [
    {
     "data": {
      "text/plain": [
       "array([[10, 11, 12],\n",
       "       [18, 19, 20],\n",
       "       [42, 43, 44]])"
      ]
     },
     "execution_count": 28,
     "metadata": {},
     "output_type": "execute_result"
    }
   ],
   "source": [
    "A[rows_to_keep, 2:5]#righe con indici selezionati, intervallo di colonne"
   ]
  },
  {
   "cell_type": "code",
   "execution_count": 29,
   "metadata": {},
   "outputs": [
    {
     "data": {
      "text/plain": [
       "array([[ 3,  5],\n",
       "       [11, 13],\n",
       "       [19, 21],\n",
       "       [27, 29],\n",
       "       [35, 37],\n",
       "       [43, 45]])"
      ]
     },
     "execution_count": 29,
     "metadata": {},
     "output_type": "execute_result"
    }
   ],
   "source": [
    "cols_to_keep = [3,5]\n",
    "\n",
    "A[:, cols_to_keep]#tutte le righe, colonne con indici selezionati "
   ]
  },
  {
   "cell_type": "markdown",
   "metadata": {},
   "source": [
    "Anche una singola immagine RGB è un tensore. Vediamo un esempio di elaborazione immagini con NumPy."
   ]
  },
  {
   "cell_type": "code",
   "execution_count": 30,
   "metadata": {},
   "outputs": [
    {
     "data": {
      "text/plain": [
       "<matplotlib.image.AxesImage at 0x7f859ccea520>"
      ]
     },
     "execution_count": 30,
     "metadata": {},
     "output_type": "execute_result"
    },
    {
     "data": {
      "image/png": "[encoded data removed]",
      "text/plain": [
       "<Figure size 432x288 with 1 Axes>"
      ]
     },
     "metadata": {
      "needs_background": "light"
     },
     "output_type": "display_data"
    }
   ],
   "source": [
    "from PIL import Image\n",
    "import matplotlib.pyplot as plt\n",
    "\n",
    "image = Image.open('data/trump.jpg')\n",
    "plt.imshow(image)"
   ]
  },
  {
   "cell_type": "code",
   "execution_count": 31,
   "metadata": {},
   "outputs": [
    {
     "name": "stdout",
     "output_type": "stream",
     "text": [
      "shape: (356, 628, 3)\n",
      "ndim:  3\n",
      "size:  670704\n"
     ]
    }
   ],
   "source": [
    "np_img = np.array(image)\n",
    "\n",
    "print('shape:', np_img.shape)\n",
    "print('ndim: ', np_img.ndim)\n",
    "print('size: ', np_img.size)#cosa indica?"
   ]
  },
  {
   "cell_type": "code",
   "execution_count": 32,
   "metadata": {},
   "outputs": [
    {
     "name": "stdout",
     "output_type": "stream",
     "text": [
      "(356, 628) (356, 628) (356, 628)\n"
     ]
    }
   ],
   "source": [
    "reds = np_img[:, :, 0]\n",
    "greens = np_img[:, :, 1]\n",
    "blues = np_img[:, :, 2]\n",
    "\n",
    "print(reds.shape, greens.shape, blues.shape)"
   ]
  },
  {
   "cell_type": "code",
   "execution_count": 33,
   "metadata": {},
   "outputs": [
    {
     "data": {
      "text/plain": [
       "<matplotlib.image.AxesImage at 0x7f859c498820>"
      ]
     },
     "execution_count": 33,
     "metadata": {},
     "output_type": "execute_result"
    },
    {
     "data": {
      "image/png": "[encoded data removed]",
      "text/plain": [
       "<Figure size 432x288 with 1 Axes>"
      ]
     },
     "metadata": {
      "needs_background": "light"
     },
     "output_type": "display_data"
    }
   ],
   "source": [
    "plt.imshow(reds, cmap=plt.cm.Reds_r)"
   ]
  },
  {
   "cell_type": "markdown",
   "metadata": {},
   "source": [
    "Generazione di numeri casuali\n",
    "---\n",
    "Il modulo *random* gestisce la generazione di (array di numeri) casuali da vari tipi di distribuzione statistica: https://docs.scipy.org/doc/numpy-1.14.0/reference/routines.random.html.\n",
    "\n",
    "Vediamo alcuni esempi."
   ]
  },
  {
   "cell_type": "code",
   "execution_count": 34,
   "metadata": {},
   "outputs": [
    {
     "data": {
      "text/plain": [
       "0.39106726207207043"
      ]
     },
     "execution_count": 34,
     "metadata": {},
     "output_type": "execute_result"
    }
   ],
   "source": [
    "import numpy.random as rdm\n",
    "\n",
    "a = rdm.random()#uniforme continua in [0.0, 1.0)\n",
    "\n",
    "a"
   ]
  },
  {
   "cell_type": "code",
   "execution_count": 35,
   "metadata": {},
   "outputs": [
    {
     "data": {
      "text/plain": [
       "array([[0.88406008, 0.90759696, 0.57208727, 0.70022709, 0.13712918],\n",
       "       [0.26910344, 0.62239599, 0.26802053, 0.50182189, 0.60843394],\n",
       "       [0.3350325 , 0.3712789 , 0.03112815, 0.01702651, 0.6092321 ],\n",
       "       [0.27557772, 0.66511933, 0.76505456, 0.63062414, 0.05097997],\n",
       "       [0.65146694, 0.86796019, 0.94735086, 0.30741579, 0.14684888]])"
      ]
     },
     "execution_count": 35,
     "metadata": {},
     "output_type": "execute_result"
    }
   ],
   "source": [
    "A = rdm.random((5,5))#uniforme continua in [0.0, 1.0), shape assegnata\n",
    "\n",
    "A"
   ]
  },
  {
   "cell_type": "code",
   "execution_count": 36,
   "metadata": {},
   "outputs": [
    {
     "data": {
      "text/plain": [
       "array([[2, 5, 7, 5, 8],\n",
       "       [0, 5, 2, 3, 0],\n",
       "       [5, 0, 3, 9, 4],\n",
       "       [0, 5, 4, 8, 0]])"
      ]
     },
     "execution_count": 36,
     "metadata": {},
     "output_type": "execute_result"
    }
   ],
   "source": [
    "B = rdm.randint(0, 10, (4,5))#uniforme discreta in [0,10), shape assegnata\n",
    "\n",
    "B"
   ]
  },
  {
   "cell_type": "code",
   "execution_count": 37,
   "metadata": {},
   "outputs": [
    {
     "data": {
      "text/plain": [
       "array([[2.46743668, 3.04573459, 2.45415887, 1.97871433, 4.08798515],\n",
       "       [2.2457361 , 1.67014231, 2.56110518, 2.96925765, 2.51852687],\n",
       "       [2.79267593, 3.88219026, 2.48898867, 4.29704532, 3.43314094],\n",
       "       [2.96149314, 2.39141234, 2.12045007, 3.53553372, 1.77230161]])"
      ]
     },
     "execution_count": 37,
     "metadata": {},
     "output_type": "execute_result"
    }
   ],
   "source": [
    "C = rdm.normal(3, 1, (4,5))#normale con media 3 e deviazione standard 1, shape assegnata\n",
    "\n",
    "C"
   ]
  },
  {
   "cell_type": "markdown",
   "metadata": {},
   "source": [
    "Operazioni aggregate e *axes*\n",
    "---\n",
    "Quando si ha a che fare con grandi quantità di dati, l'estrazione di statistiche globali descrittive è una delle prime possibili analisi. Vediamo qualche *operazione aggregata* sugli array NumPy."
   ]
  },
  {
   "cell_type": "markdown",
   "metadata": {},
   "source": [
    "La somma di tutti gli elementi di un array si ottiene con la funzione *sum*."
   ]
  },
  {
   "cell_type": "code",
   "execution_count": 38,
   "metadata": {},
   "outputs": [
    {
     "data": {
      "text/plain": [
       "array([-1.17264783, -0.97640649,  0.98810445,  1.45828082, -0.92241053,\n",
       "       -1.56124864,  0.10239257, -1.93435313, -0.20535421,  1.35949524,\n",
       "        0.03897772, -1.95554235,  1.17770322, -1.06832705,  0.28741085,\n",
       "        0.43154139,  2.50886775,  0.78242126, -1.66007661, -1.15394818,\n",
       "       -0.39932353, -0.24726888, -0.45156194, -1.17811112,  0.19452299,\n",
       "       -0.3347754 , -0.94219165,  0.71818711, -0.51867063, -0.90664016,\n",
       "        1.05297864, -0.50385536, -1.14014659, -0.11618855, -1.2005453 ,\n",
       "       -0.39944566, -0.1927305 , -0.85739735, -1.21141811, -1.52769133,\n",
       "       -1.20957052, -1.36794208, -0.08991025,  0.17562751, -1.50502514,\n",
       "       -1.46290708, -1.592082  ,  0.83260477,  0.59742537, -0.58151203])"
      ]
     },
     "execution_count": 38,
     "metadata": {},
     "output_type": "execute_result"
    }
   ],
   "source": [
    "a = rdm.normal(0, 1, (50,))\n",
    "\n",
    "a"
   ]
  },
  {
   "cell_type": "code",
   "execution_count": 39,
   "metadata": {},
   "outputs": [
    {
     "data": {
      "text/plain": [
       "-19.84068452228454"
      ]
     },
     "execution_count": 39,
     "metadata": {},
     "output_type": "execute_result"
    }
   ],
   "source": [
    "np.sum(a)"
   ]
  },
  {
   "cell_type": "code",
   "execution_count": 40,
   "metadata": {},
   "outputs": [
    {
     "data": {
      "text/plain": [
       "-19.840684522284537"
      ]
     },
     "execution_count": 40,
     "metadata": {},
     "output_type": "execute_result"
    }
   ],
   "source": [
    "sum(a)"
   ]
  },
  {
   "cell_type": "markdown",
   "metadata": {},
   "source": [
    "Quando le dimensioni degli array sono grandi, le operazioni aggregate di NumPy sono molto più efficienti di quelle default di Python."
   ]
  },
  {
   "cell_type": "code",
   "execution_count": 41,
   "metadata": {},
   "outputs": [
    {
     "data": {
      "text/plain": [
       "-0.3968136904456908"
      ]
     },
     "execution_count": 41,
     "metadata": {},
     "output_type": "execute_result"
    }
   ],
   "source": [
    "np.mean(a)"
   ]
  },
  {
   "cell_type": "markdown",
   "metadata": {},
   "source": [
    "### Esercizio 2\n",
    "Senza costrutti NumPy, scrivere un'implementazione della *deviazione standard*,\n",
    "\n",
    "$$\\sigma := \\sqrt{\\frac{1}{n}\\sum_{i=1}^n{(x_i - \\bar{x}_i)^2}},$$\n",
    "\n",
    "\n",
    "e confrontare risultati con l'equivalente NumPy, *std*."
   ]
  },
  {
   "cell_type": "code",
   "execution_count": null,
   "metadata": {},
   "outputs": [],
   "source": [
    "import numpy as np\n",
    "from math import sqrt\n",
    "\n",
    "def py_std(x):\n",
    "    #FILL ME\n",
    "\n",
    "#FILL ME"
   ]
  },
  {
   "cell_type": "markdown",
   "metadata": {},
   "source": [
    "Le funzioni aggregate di NumPy possono essere utilizzate su ognuno degli *axes* di un array. Ogni axis corrisponde ad una dimensione; il numero di axes è quindi pari al valore del campo ndim.\n",
    "\n",
    "Un array monodimensionale avrà solo l'*axis 0*, uno bidimensionale gli axes 0 e 1, e così via.\n",
    "\n",
    "Vediamo come usare le funzioni aggregate lungo gli axes di un array NumPy."
   ]
  },
  {
   "cell_type": "code",
   "execution_count": 43,
   "metadata": {},
   "outputs": [
    {
     "data": {
      "text/plain": [
       "array([[0, 1, 4, 1, 4],\n",
       "       [4, 4, 2, 4, 2],\n",
       "       [3, 3, 0, 3, 0]])"
      ]
     },
     "execution_count": 43,
     "metadata": {},
     "output_type": "execute_result"
    }
   ],
   "source": [
    "A = np.random.randint(0, 5, (3,5))\n",
    "\n",
    "A"
   ]
  },
  {
   "cell_type": "code",
   "execution_count": 44,
   "metadata": {},
   "outputs": [
    {
     "data": {
      "text/plain": [
       "35"
      ]
     },
     "execution_count": 44,
     "metadata": {},
     "output_type": "execute_result"
    }
   ],
   "source": [
    "np.sum(A)"
   ]
  },
  {
   "cell_type": "code",
   "execution_count": 45,
   "metadata": {},
   "outputs": [
    {
     "data": {
      "text/plain": [
       "array([7, 8, 6, 8, 6])"
      ]
     },
     "execution_count": 45,
     "metadata": {},
     "output_type": "execute_result"
    }
   ],
   "source": [
    "np.sum(A, axis=0)#somma 'lungo le righe' --> genero una riga"
   ]
  },
  {
   "cell_type": "code",
   "execution_count": 46,
   "metadata": {},
   "outputs": [
    {
     "data": {
      "text/plain": [
       "array([10, 16,  9])"
      ]
     },
     "execution_count": 46,
     "metadata": {},
     "output_type": "execute_result"
    }
   ],
   "source": [
    "np.sum(A, axis=1)#somma 'lungo le colonne' --> genero una colonna"
   ]
  },
  {
   "cell_type": "code",
   "execution_count": 47,
   "metadata": {},
   "outputs": [
    {
     "data": {
      "text/plain": [
       "array([2. , 3.2, 1.8])"
      ]
     },
     "execution_count": 47,
     "metadata": {},
     "output_type": "execute_result"
    }
   ],
   "source": [
    "np.mean(A, axis=1)"
   ]
  },
  {
   "cell_type": "markdown",
   "metadata": {},
   "source": [
    "### *Esercizio 3*\n",
    "\n",
    "Riprendiamo l'esempio del filmato come tensore, e immaginiamo di rappresentare ogni frame come una griglia di pixel in scala di grigio: ciascuno di essi avrà un valore intero da 0 a 255, che ne indica l'intensità.\n",
    "Supponiamo inoltre che il filmato contenga 50 frame e che ciascuno di questi sia 5x5 pixel.\n",
    "\n",
    "- rappresentare un filmato (generare numeri casuali per i valori dei pixel) tramite un array NumPy\n",
    "- calcolare il valore medio di intensità (sui frame del filmato) dei singoli pixel"
   ]
  },
  {
   "cell_type": "code",
   "execution_count": 48,
   "metadata": {},
   "outputs": [],
   "source": [
    "#FILL ME"
   ]
  },
  {
   "cell_type": "markdown",
   "metadata": {},
   "source": [
    "*stack* e *split*\n",
    "---\n",
    "Array NumPy con una profondità e un numero coerente di dimensioni possono essere combinati tra loro.\n",
    "\n",
    "Le funzioni *hstack* e *vstack* prendono in ingresso una lista di array e li affiancano orizzontalmente (h) o verticalmente (v)."
   ]
  },
  {
   "cell_type": "code",
   "execution_count": 49,
   "metadata": {},
   "outputs": [
    {
     "data": {
      "text/plain": [
       "array([[ 0,  1,  2,  3],\n",
       "       [ 4,  5,  6,  7],\n",
       "       [ 8,  9, 10, 11],\n",
       "       [12, 13, 14, 15]])"
      ]
     },
     "execution_count": 49,
     "metadata": {},
     "output_type": "execute_result"
    }
   ],
   "source": [
    "A = np.arange(16).reshape(4,4)\n",
    "\n",
    "A"
   ]
  },
  {
   "cell_type": "code",
   "execution_count": 50,
   "metadata": {},
   "outputs": [
    {
     "data": {
      "text/plain": [
       "array([[16, 17, 18, 19],\n",
       "       [20, 21, 22, 23],\n",
       "       [24, 25, 26, 27],\n",
       "       [28, 29, 30, 31]])"
      ]
     },
     "execution_count": 50,
     "metadata": {},
     "output_type": "execute_result"
    }
   ],
   "source": [
    "B = np.arange(16,32).reshape(4,4)\n",
    "\n",
    "B"
   ]
  },
  {
   "cell_type": "code",
   "execution_count": 51,
   "metadata": {},
   "outputs": [
    {
     "data": {
      "text/plain": [
       "array([[ 0,  1,  2,  3, 16, 17, 18, 19],\n",
       "       [ 4,  5,  6,  7, 20, 21, 22, 23],\n",
       "       [ 8,  9, 10, 11, 24, 25, 26, 27],\n",
       "       [12, 13, 14, 15, 28, 29, 30, 31]])"
      ]
     },
     "execution_count": 51,
     "metadata": {},
     "output_type": "execute_result"
    }
   ],
   "source": [
    "C = np.hstack([A,B])\n",
    "\n",
    "C"
   ]
  },
  {
   "cell_type": "code",
   "execution_count": 52,
   "metadata": {},
   "outputs": [
    {
     "data": {
      "text/plain": [
       "array([[ 0,  1,  2,  3],\n",
       "       [ 4,  5,  6,  7],\n",
       "       [ 8,  9, 10, 11],\n",
       "       [12, 13, 14, 15],\n",
       "       [16, 17, 18, 19],\n",
       "       [20, 21, 22, 23],\n",
       "       [24, 25, 26, 27],\n",
       "       [28, 29, 30, 31]])"
      ]
     },
     "execution_count": 52,
     "metadata": {},
     "output_type": "execute_result"
    }
   ],
   "source": [
    "D = np.vstack([A,B])\n",
    "\n",
    "D"
   ]
  },
  {
   "cell_type": "markdown",
   "metadata": {},
   "source": [
    "Le funzioni *hsplit* e *vsplit* realizzano l'operazione inversa alla concatenazione: https://docs.scipy.org/doc/numpy-1.14.0/reference/generated/numpy.split.html."
   ]
  },
  {
   "cell_type": "markdown",
   "metadata": {},
   "source": [
    "Aritmetica degli array\n",
    "---\n",
    "\n",
    "Il punto di forza di NumPy è la possibilità di fare operazioni vettoriali in modo efficiente (e intuitivo). Per saperne di più: https://jakevdp.github.io/PythonDataScienceHandbook/02.03-computation-on-arrays-ufuncs.html."
   ]
  },
  {
   "cell_type": "markdown",
   "metadata": {},
   "source": [
    "Calcoliamo i *reciproci* $\\frac{1}{x}$ degli elementi di un array utilizzando una comprensione (Lezione 3)."
   ]
  },
  {
   "cell_type": "code",
   "execution_count": 53,
   "metadata": {},
   "outputs": [
    {
     "name": "stdout",
     "output_type": "stream",
     "text": [
      "valori originali: [4, 4, 5, 2, 5]\n",
      "valori reciproci: [0.25, 0.25, 0.2, 0.5, 0.2]\n"
     ]
    }
   ],
   "source": [
    "values = [4, 4, 5, 2, 5]\n",
    "reciprocals = [1/x for x in values]\n",
    "\n",
    "print('valori originali:', values)\n",
    "print('valori reciproci:', reciprocals)"
   ]
  },
  {
   "cell_type": "markdown",
   "metadata": {},
   "source": [
    "Facciamo la stessa cosa con l'artimetica degli array di NumPy."
   ]
  },
  {
   "cell_type": "code",
   "execution_count": 54,
   "metadata": {},
   "outputs": [
    {
     "name": "stdout",
     "output_type": "stream",
     "text": [
      "valori originali: [4 4 5 2 5]\n",
      "valori reciproci: [0.25 0.25 0.2  0.5  0.2 ]\n"
     ]
    }
   ],
   "source": [
    "values = np.array(values)\n",
    "np_reciprocals = 1/values\n",
    "\n",
    "print('valori originali:', values)\n",
    "print('valori reciproci:', np_reciprocals)"
   ]
  },
  {
   "cell_type": "markdown",
   "metadata": {},
   "source": [
    "Tutte le operazioni aritmetiche fondamentali possono essere usate sugli array NumPy."
   ]
  },
  {
   "cell_type": "code",
   "execution_count": 55,
   "metadata": {},
   "outputs": [
    {
     "name": "stdout",
     "output_type": "stream",
     "text": [
      "a: [0 1 2 3 4 5 6 7 8 9]\n",
      "\n",
      "a + 5: [ 5  6  7  8  9 10 11 12 13 14]\n",
      "\n",
      "a - 5: [-5 -4 -3 -2 -1  0  1  2  3  4]\n",
      "\n",
      "a * 2: [ 0  2  4  6  8 10 12 14 16 18]\n",
      "\n",
      "a / 2: [0.  0.5 1.  1.5 2.  2.5 3.  3.5 4.  4.5]\n"
     ]
    }
   ],
   "source": [
    "a = np.arange(10)\n",
    "print('a:', a)\n",
    "print('\\na + 5:', a + 5)\n",
    "print('\\na - 5:', a - 5)\n",
    "print('\\na * 2:', a * 2)\n",
    "print('\\na / 2:', a / 2)"
   ]
  },
  {
   "cell_type": "markdown",
   "metadata": {},
   "source": [
    "L'aritmetica funziona anche per array con più dimensioni."
   ]
  },
  {
   "cell_type": "code",
   "execution_count": 56,
   "metadata": {},
   "outputs": [
    {
     "data": {
      "text/plain": [
       "array([[ 0,  1,  2,  3],\n",
       "       [ 4,  5,  6,  7],\n",
       "       [ 8,  9, 10, 11],\n",
       "       [12, 13, 14, 15],\n",
       "       [16, 17, 18, 19]])"
      ]
     },
     "execution_count": 56,
     "metadata": {},
     "output_type": "execute_result"
    }
   ],
   "source": [
    "A = np.arange(20).reshape(5,4)\n",
    "\n",
    "A"
   ]
  },
  {
   "cell_type": "code",
   "execution_count": 57,
   "metadata": {},
   "outputs": [
    {
     "data": {
      "text/plain": [
       "array([[0. , 0.5, 1. , 1.5],\n",
       "       [2. , 2.5, 3. , 3.5],\n",
       "       [4. , 4.5, 5. , 5.5],\n",
       "       [6. , 6.5, 7. , 7.5],\n",
       "       [8. , 8.5, 9. , 9.5]])"
      ]
     },
     "execution_count": 57,
     "metadata": {},
     "output_type": "execute_result"
    }
   ],
   "source": [
    "A / 2"
   ]
  },
  {
   "cell_type": "code",
   "execution_count": 58,
   "metadata": {},
   "outputs": [
    {
     "data": {
      "text/plain": [
       "array([[  0,  -1,  -2,  -3],\n",
       "       [ -4,  -5,  -6,  -7],\n",
       "       [ -8,  -9, -10, -11],\n",
       "       [-12, -13, -14, -15],\n",
       "       [-16, -17, -18, -19]])"
      ]
     },
     "execution_count": 58,
     "metadata": {},
     "output_type": "execute_result"
    }
   ],
   "source": [
    "- A"
   ]
  },
  {
   "cell_type": "markdown",
   "metadata": {},
   "source": [
    "### *Esercizio 4*\n",
    "\n",
    "- generare un array di numeri distribuiti normalmente con media 5 e deviazione standard 3\n",
    "- sottrarre 5 a tutti gli elementi dell'array\n",
    "- calcolare la deviazione standard degli elementi dell'array utilizzando le funzioni NumPy mean, sum e sqrt e l'aritmetica degli array\n",
    "- controllare che il risultato sia (vicino a 3 e) uguale a quello ottenuto con la funzione NumPy std"
   ]
  },
  {
   "cell_type": "code",
   "execution_count": 59,
   "metadata": {},
   "outputs": [],
   "source": [
    "#FILL ME"
   ]
  },
  {
   "cell_type": "markdown",
   "metadata": {},
   "source": [
    "*Esercizio 5*\n",
    "---\n",
    "\n",
    "Rappresentare attraverso array NumPy i dati del primo esempio di classificazione con KNN che trovate sulle slide. Calcolate le distanze euclidee tra $x^{new}$ e ciascun esempio in $X^{train}$."
   ]
  },
  {
   "cell_type": "code",
   "execution_count": 60,
   "metadata": {},
   "outputs": [],
   "source": [
    "#FILL ME"
   ]
  },
  {
   "cell_type": "markdown",
   "metadata": {},
   "source": [
    "*Esercizio 6*\n",
    "---\n",
    "Rappresentare attraverso array NumPy i dati del secondo esempio di classificazione KNN delle slide. Ripetere l'analisi, calcolando le distanze tra $d(A,B)$ e $d(A,C)$ prima e dopo la scalatura delle feature tra 0 e 1. "
   ]
  },
  {
   "cell_type": "code",
   "execution_count": 61,
   "metadata": {},
   "outputs": [],
   "source": [
    "#FILL ME"
   ]
  },
  {
   "cell_type": "markdown",
   "metadata": {},
   "source": [
    "*Esercizio 7*\n",
    "---\n",
    "Implementare il modello $k$-nearest neighbors (KNN) per la classificazione. In particolare, costruire una funzione che\n",
    "- utilizza operazioni aggregate e vettoriali di NumPy\n",
    "- prende in ingresso\n",
    " * un intero $k$\n",
    " * un array bidimensionale di esempi $X_{train}$ (per comodità, generare numeri casuali tra 0 e 1)\n",
    " * un array di etichette $y_{train}$ (interi, 0 o 1)\n",
    " * un nuovo esempio da classificare $x_{new}$ (sempre tra 0 e 1)\n",
    "- predice la classe di $x_{new}$ restituendo la più frequente tra le etichette (una qualsiasi in caso di pareggio) dei $K$ esempi di $X_{train}$ più vicini a $x_{new}$.\n",
    "\n",
    "**Qualche consiglio**:\n",
    "1. Il costrutto\n",
    "        np.argmax(np.bincount(x))\n",
    "   dove *x* è un array di interi, restituisce l'elemento più frequente tra quelli di x\n",
    "2. Dare un occhio alla funzione *argsort*: https://stackoverflow.com/questions/17901218/numpy-argsort-what-is-it-doing."
   ]
  },
  {
   "cell_type": "code",
   "execution_count": 62,
   "metadata": {},
   "outputs": [
    {
     "name": "stdout",
     "output_type": "stream",
     "text": [
      "0\n",
      "[2 1 3 4 0]\n"
     ]
    }
   ],
   "source": [
    "#FILL ME\n",
    "\n",
    "print(np.argmax(np.bincount([1,1,0,0,0,0,1,0])))\n",
    "print(np.argsort([4,1,0,2,3]))#indici che ordinerebbero l'array"
   ]
  },
  {
   "cell_type": "markdown",
   "metadata": {},
   "source": [
    "<script>\n",
    "  $(document).ready(function(){\n",
    "    $('div.back-to-top').hide();\n",
    "    $('nav#menubar').hide();\n",
    "    $('div.prompt').hide();\n",
    "    $('.hidden-print').hide();\n",
    "  });\n",
    "</script>\n",
    "\n",
    "<footer id=\"attribution\" style=\"float:right; color:#999; background:#fff;\">\n",
    "Created with Jupyter, delivered by Fastly, rendered by Rackspace.\n",
    "</footer>"
   ]
  }
 ],
 "metadata": {
  "kernelspec": {
   "display_name": "Python 3",
   "language": "python",
   "name": "python3"
  },
  "language_info": {
   "codemirror_mode": {
    "name": "ipython",
    "version": 3
   },
   "file_extension": ".py",
   "mimetype": "text/x-python",
   "name": "python",
   "nbconvert_exporter": "python",
   "pygments_lexer": "ipython3",
   "version": "3.8.5"
  }
 },
 "nbformat": 4,
 "nbformat_minor": 2
}
